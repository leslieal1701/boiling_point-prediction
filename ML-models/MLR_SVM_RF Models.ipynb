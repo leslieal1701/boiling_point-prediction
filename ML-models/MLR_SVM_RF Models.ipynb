{
 "cells": [
  {
   "cell_type": "code",
   "execution_count": 2,
   "id": "de9c95bd",
   "metadata": {
    "id": "de9c95bd"
   },
   "outputs": [],
   "source": [
    "%matplotlib inline\n",
    "import matplotlib.pyplot as plt\n",
    "import numpy as np \n",
    "import pandas as pd \n",
    "import seaborn as sns \n",
    "from mlxtend.plotting import scatterplotmatrix"
   ]
  },
  {
   "cell_type": "code",
   "execution_count": 4,
   "id": "S2WzYLYLiwmR",
   "metadata": {
    "colab": {
     "base_uri": "https://localhost:8080/"
    },
    "id": "S2WzYLYLiwmR",
    "outputId": "1fff9713-6b57-4db3-816c-6d8e6596900b"
   },
   "outputs": [
    {
     "name": "stdout",
     "output_type": "stream",
     "text": [
      "Drive already mounted at /content/gdrive; to attempt to forcibly remount, call drive.mount(\"/content/gdrive\", force_remount=True).\n"
     ]
    }
   ],
   "source": [
    "#from google.colab import drive \n",
    "#drive.mount('/content/gdrive')"
   ]
  },
  {
   "cell_type": "code",
   "execution_count": 33,
   "id": "a6408dcc",
   "metadata": {
    "colab": {
     "base_uri": "https://localhost:8080/",
     "height": 677
    },
    "id": "a6408dcc",
    "outputId": "044c6993-daf3-4074-9e4f-e1ae3bfe0a93"
   },
   "outputs": [
    {
     "data": {
      "text/html": [
       "<div>\n",
       "<style scoped>\n",
       "    .dataframe tbody tr th:only-of-type {\n",
       "        vertical-align: middle;\n",
       "    }\n",
       "\n",
       "    .dataframe tbody tr th {\n",
       "        vertical-align: top;\n",
       "    }\n",
       "\n",
       "    .dataframe thead th {\n",
       "        text-align: right;\n",
       "    }\n",
       "</style>\n",
       "<table border=\"1\" class=\"dataframe\">\n",
       "  <thead>\n",
       "    <tr style=\"text-align: right;\">\n",
       "      <th></th>\n",
       "      <th>ID</th>\n",
       "      <th>Fuel</th>\n",
       "      <th>Class</th>\n",
       "      <th>Sub-Class</th>\n",
       "      <th>Group</th>\n",
       "      <th>BP2</th>\n",
       "      <th>Uncertainty</th>\n",
       "      <th>Source</th>\n",
       "      <th>SMILES</th>\n",
       "      <th>BP</th>\n",
       "      <th>Molecular Formula</th>\n",
       "      <th>N_Atoms</th>\n",
       "      <th>MW</th>\n",
       "      <th>IC0</th>\n",
       "      <th>PJ3</th>\n",
       "      <th>SIC0</th>\n",
       "      <th>GATS1v</th>\n",
       "      <th>Wiener</th>\n",
       "      <th>Z1</th>\n",
       "      <th>HOMO</th>\n",
       "      <th>LUMO</th>\n",
       "      <th>DM</th>\n",
       "      <th>EI</th>\n",
       "      <th>CP</th>\n",
       "      <th>H</th>\n",
       "      <th>BalabanJ</th>\n",
       "      <th>CIC3</th>\n",
       "      <th>GGI4</th>\n",
       "      <th>JGI1</th>\n",
       "      <th>Mor10v</th>\n",
       "      <th>Mor16se</th>\n",
       "      <th>GRAVH</th>\n",
       "      <th>HBondA</th>\n",
       "      <th>HBondD</th>\n",
       "      <th>HeteroA</th>\n",
       "      <th>AromaticR</th>\n",
       "      <th>CPS</th>\n",
       "      <th>GATS2m</th>\n",
       "      <th>FPSA3</th>\n",
       "      <th>WNSA3</th>\n",
       "      <th>PNSA3</th>\n",
       "      <th>ATS3p</th>\n",
       "      <th>RPCG</th>\n",
       "      <th>RNCG</th>\n",
       "    </tr>\n",
       "  </thead>\n",
       "  <tbody>\n",
       "    <tr>\n",
       "      <th>0</th>\n",
       "      <td>1</td>\n",
       "      <td>1,3,5-trimethylbenzene</td>\n",
       "      <td>Hydrocarbons</td>\n",
       "      <td>Aromatic hydrocarbons</td>\n",
       "      <td>Monocyclic aromatic hydrocarbons</td>\n",
       "      <td>437.908</td>\n",
       "      <td>0.182452</td>\n",
       "      <td>NIST</td>\n",
       "      <td>Cc1cc(C)cc(C)c1</td>\n",
       "      <td>437.872222</td>\n",
       "      <td>C9H12</td>\n",
       "      <td>21</td>\n",
       "      <td>120.195</td>\n",
       "      <td>0.985228</td>\n",
       "      <td>0.318633</td>\n",
       "      <td>0.224307</td>\n",
       "      <td>1.111111</td>\n",
       "      <td>84</td>\n",
       "      <td>42</td>\n",
       "      <td>-0.227243</td>\n",
       "      <td>0.009793</td>\n",
       "      <td>0.037601</td>\n",
       "      <td>0.237036</td>\n",
       "      <td>-0.108725</td>\n",
       "      <td>0.024935</td>\n",
       "      <td>2.340852</td>\n",
       "      <td>2.264232</td>\n",
       "      <td>0.333333</td>\n",
       "      <td>0.333333</td>\n",
       "      <td>0.036857</td>\n",
       "      <td>0.507004</td>\n",
       "      <td>1308.111489</td>\n",
       "      <td>0</td>\n",
       "      <td>0</td>\n",
       "      <td>0</td>\n",
       "      <td>6</td>\n",
       "      <td>119.007881</td>\n",
       "      <td>0.810185</td>\n",
       "      <td>0.023771</td>\n",
       "      <td>-1.532920</td>\n",
       "      <td>-4.779854</td>\n",
       "      <td>58.506429</td>\n",
       "      <td>0.142741</td>\n",
       "      <td>0.128051</td>\n",
       "    </tr>\n",
       "    <tr>\n",
       "      <th>1</th>\n",
       "      <td>2</td>\n",
       "      <td>1-Butene</td>\n",
       "      <td>Hydrocarbons</td>\n",
       "      <td>Aliphatic hydrocarbons</td>\n",
       "      <td>Alkenes</td>\n",
       "      <td>266.844</td>\n",
       "      <td>0.244792</td>\n",
       "      <td>NIST</td>\n",
       "      <td>CCC=C</td>\n",
       "      <td>267.038889</td>\n",
       "      <td>C4H8</td>\n",
       "      <td>12</td>\n",
       "      <td>56.108</td>\n",
       "      <td>0.918296</td>\n",
       "      <td>0.363684</td>\n",
       "      <td>0.256152</td>\n",
       "      <td>1.500000</td>\n",
       "      <td>10</td>\n",
       "      <td>10</td>\n",
       "      <td>-0.249853</td>\n",
       "      <td>0.025890</td>\n",
       "      <td>0.336790</td>\n",
       "      <td>0.275743</td>\n",
       "      <td>-0.111982</td>\n",
       "      <td>0.022738</td>\n",
       "      <td>1.974745</td>\n",
       "      <td>0.729574</td>\n",
       "      <td>0.000000</td>\n",
       "      <td>0.166667</td>\n",
       "      <td>0.007181</td>\n",
       "      <td>0.014358</td>\n",
       "      <td>393.448663</td>\n",
       "      <td>0</td>\n",
       "      <td>0</td>\n",
       "      <td>0</td>\n",
       "      <td>0</td>\n",
       "      <td>97.357465</td>\n",
       "      <td>1.260417</td>\n",
       "      <td>0.026443</td>\n",
       "      <td>-1.232569</td>\n",
       "      <td>-5.459298</td>\n",
       "      <td>16.143384</td>\n",
       "      <td>0.192906</td>\n",
       "      <td>0.349211</td>\n",
       "    </tr>\n",
       "    <tr>\n",
       "      <th>2</th>\n",
       "      <td>3</td>\n",
       "      <td>1-Pentene</td>\n",
       "      <td>Hydrocarbons</td>\n",
       "      <td>Aliphatic hydrocarbons</td>\n",
       "      <td>Alkenes</td>\n",
       "      <td>303.102</td>\n",
       "      <td>0.065615</td>\n",
       "      <td>NIST</td>\n",
       "      <td>CCCC=C</td>\n",
       "      <td>303.038889</td>\n",
       "      <td>C5H10</td>\n",
       "      <td>15</td>\n",
       "      <td>70.135</td>\n",
       "      <td>0.918296</td>\n",
       "      <td>0.372016</td>\n",
       "      <td>0.235045</td>\n",
       "      <td>1.500000</td>\n",
       "      <td>20</td>\n",
       "      <td>14</td>\n",
       "      <td>-0.249613</td>\n",
       "      <td>0.025174</td>\n",
       "      <td>0.328765</td>\n",
       "      <td>0.274786</td>\n",
       "      <td>-0.112219</td>\n",
       "      <td>0.022915</td>\n",
       "      <td>2.190610</td>\n",
       "      <td>0.716993</td>\n",
       "      <td>0.000000</td>\n",
       "      <td>0.125000</td>\n",
       "      <td>0.051929</td>\n",
       "      <td>0.047339</td>\n",
       "      <td>545.352707</td>\n",
       "      <td>0</td>\n",
       "      <td>0</td>\n",
       "      <td>0</td>\n",
       "      <td>0</td>\n",
       "      <td>128.152792</td>\n",
       "      <td>1.312500</td>\n",
       "      <td>0.026643</td>\n",
       "      <td>-1.308787</td>\n",
       "      <td>-5.161937</td>\n",
       "      <td>25.164912</td>\n",
       "      <td>0.163565</td>\n",
       "      <td>0.296013</td>\n",
       "    </tr>\n",
       "    <tr>\n",
       "      <th>3</th>\n",
       "      <td>4</td>\n",
       "      <td>2,3-Dimethylpentane</td>\n",
       "      <td>Hydrocarbons</td>\n",
       "      <td>Aliphatic hydrocarbons</td>\n",
       "      <td>Alkanes</td>\n",
       "      <td>362.941</td>\n",
       "      <td>0.395675</td>\n",
       "      <td>NIST</td>\n",
       "      <td>CCC(C)C(C)C</td>\n",
       "      <td>363.150000</td>\n",
       "      <td>C7H16</td>\n",
       "      <td>23</td>\n",
       "      <td>100.205</td>\n",
       "      <td>0.886541</td>\n",
       "      <td>0.454902</td>\n",
       "      <td>0.195983</td>\n",
       "      <td>1.642857</td>\n",
       "      <td>46</td>\n",
       "      <td>26</td>\n",
       "      <td>-0.296727</td>\n",
       "      <td>0.086465</td>\n",
       "      <td>0.056010</td>\n",
       "      <td>0.383192</td>\n",
       "      <td>-0.105131</td>\n",
       "      <td>0.014422</td>\n",
       "      <td>3.144208</td>\n",
       "      <td>1.621053</td>\n",
       "      <td>0.000000</td>\n",
       "      <td>0.333333</td>\n",
       "      <td>0.107795</td>\n",
       "      <td>0.221296</td>\n",
       "      <td>921.041855</td>\n",
       "      <td>0</td>\n",
       "      <td>0</td>\n",
       "      <td>0</td>\n",
       "      <td>0</td>\n",
       "      <td>185.939758</td>\n",
       "      <td>1.183248</td>\n",
       "      <td>0.019681</td>\n",
       "      <td>-1.059327</td>\n",
       "      <td>-3.541765</td>\n",
       "      <td>58.142762</td>\n",
       "      <td>0.077032</td>\n",
       "      <td>0.165887</td>\n",
       "    </tr>\n",
       "    <tr>\n",
       "      <th>4</th>\n",
       "      <td>5</td>\n",
       "      <td>2,5-dimethylhexane</td>\n",
       "      <td>Hydrocarbons</td>\n",
       "      <td>Aliphatic hydrocarbons</td>\n",
       "      <td>Alkanes</td>\n",
       "      <td>382.231</td>\n",
       "      <td>0.067620</td>\n",
       "      <td>NIST</td>\n",
       "      <td>CC(C)CCC(C)C</td>\n",
       "      <td>382.261111</td>\n",
       "      <td>C8H18</td>\n",
       "      <td>26</td>\n",
       "      <td>114.232</td>\n",
       "      <td>0.890492</td>\n",
       "      <td>0.374392</td>\n",
       "      <td>0.189449</td>\n",
       "      <td>1.625000</td>\n",
       "      <td>74</td>\n",
       "      <td>30</td>\n",
       "      <td>-0.299486</td>\n",
       "      <td>0.081422</td>\n",
       "      <td>0.078138</td>\n",
       "      <td>0.380908</td>\n",
       "      <td>-0.109032</td>\n",
       "      <td>0.015605</td>\n",
       "      <td>2.927819</td>\n",
       "      <td>2.500752</td>\n",
       "      <td>0.320000</td>\n",
       "      <td>0.357143</td>\n",
       "      <td>0.049435</td>\n",
       "      <td>0.468037</td>\n",
       "      <td>1079.890676</td>\n",
       "      <td>0</td>\n",
       "      <td>0</td>\n",
       "      <td>0</td>\n",
       "      <td>0</td>\n",
       "      <td>207.363945</td>\n",
       "      <td>1.222512</td>\n",
       "      <td>0.019948</td>\n",
       "      <td>-1.227298</td>\n",
       "      <td>-3.733328</td>\n",
       "      <td>65.151442</td>\n",
       "      <td>0.066477</td>\n",
       "      <td>0.140495</td>\n",
       "    </tr>\n",
       "    <tr>\n",
       "      <th>...</th>\n",
       "      <td>...</td>\n",
       "      <td>...</td>\n",
       "      <td>...</td>\n",
       "      <td>...</td>\n",
       "      <td>...</td>\n",
       "      <td>...</td>\n",
       "      <td>...</td>\n",
       "      <td>...</td>\n",
       "      <td>...</td>\n",
       "      <td>...</td>\n",
       "      <td>...</td>\n",
       "      <td>...</td>\n",
       "      <td>...</td>\n",
       "      <td>...</td>\n",
       "      <td>...</td>\n",
       "      <td>...</td>\n",
       "      <td>...</td>\n",
       "      <td>...</td>\n",
       "      <td>...</td>\n",
       "      <td>...</td>\n",
       "      <td>...</td>\n",
       "      <td>...</td>\n",
       "      <td>...</td>\n",
       "      <td>...</td>\n",
       "      <td>...</td>\n",
       "      <td>...</td>\n",
       "      <td>...</td>\n",
       "      <td>...</td>\n",
       "      <td>...</td>\n",
       "      <td>...</td>\n",
       "      <td>...</td>\n",
       "      <td>...</td>\n",
       "      <td>...</td>\n",
       "      <td>...</td>\n",
       "      <td>...</td>\n",
       "      <td>...</td>\n",
       "      <td>...</td>\n",
       "      <td>...</td>\n",
       "      <td>...</td>\n",
       "      <td>...</td>\n",
       "      <td>...</td>\n",
       "      <td>...</td>\n",
       "      <td>...</td>\n",
       "      <td>...</td>\n",
       "    </tr>\n",
       "    <tr>\n",
       "      <th>320</th>\n",
       "      <td>321</td>\n",
       "      <td>trans-2-hexene</td>\n",
       "      <td>Hydrocarbons</td>\n",
       "      <td>Aliphatic hydrocarbons</td>\n",
       "      <td>Alkenes</td>\n",
       "      <td>341.005</td>\n",
       "      <td>0.014359</td>\n",
       "      <td>NIST</td>\n",
       "      <td>CCC/C=C/C</td>\n",
       "      <td>341.020000</td>\n",
       "      <td>C6H12</td>\n",
       "      <td>18</td>\n",
       "      <td>84.162</td>\n",
       "      <td>0.918296</td>\n",
       "      <td>0.444471</td>\n",
       "      <td>0.220219</td>\n",
       "      <td>1.500000</td>\n",
       "      <td>35</td>\n",
       "      <td>18</td>\n",
       "      <td>-0.234908</td>\n",
       "      <td>0.031407</td>\n",
       "      <td>0.075640</td>\n",
       "      <td>0.266315</td>\n",
       "      <td>-0.101751</td>\n",
       "      <td>0.019438</td>\n",
       "      <td>2.339092</td>\n",
       "      <td>0.750543</td>\n",
       "      <td>0.080000</td>\n",
       "      <td>0.100000</td>\n",
       "      <td>0.036104</td>\n",
       "      <td>0.028575</td>\n",
       "      <td>690.835258</td>\n",
       "      <td>0</td>\n",
       "      <td>0</td>\n",
       "      <td>0</td>\n",
       "      <td>0</td>\n",
       "      <td>157.041260</td>\n",
       "      <td>1.275000</td>\n",
       "      <td>0.023728</td>\n",
       "      <td>-1.179628</td>\n",
       "      <td>-4.126941</td>\n",
       "      <td>32.183671</td>\n",
       "      <td>0.150380</td>\n",
       "      <td>0.240837</td>\n",
       "    </tr>\n",
       "    <tr>\n",
       "      <th>321</th>\n",
       "      <td>322</td>\n",
       "      <td>trans-crotonic acid</td>\n",
       "      <td>Carboxylic acids and salts</td>\n",
       "      <td>Aliphatic carboxylic acids</td>\n",
       "      <td>Alkenylcarboxylic acids</td>\n",
       "      <td>455.644</td>\n",
       "      <td>1.544870</td>\n",
       "      <td>NIST</td>\n",
       "      <td>C/C=C/C(O)=O</td>\n",
       "      <td>458.150000</td>\n",
       "      <td>C4H6O2</td>\n",
       "      <td>12</td>\n",
       "      <td>86.090</td>\n",
       "      <td>1.459148</td>\n",
       "      <td>0.484704</td>\n",
       "      <td>0.407019</td>\n",
       "      <td>1.147885</td>\n",
       "      <td>32</td>\n",
       "      <td>20</td>\n",
       "      <td>-0.270364</td>\n",
       "      <td>-0.039951</td>\n",
       "      <td>1.794456</td>\n",
       "      <td>0.230412</td>\n",
       "      <td>-0.155157</td>\n",
       "      <td>0.052241</td>\n",
       "      <td>2.627215</td>\n",
       "      <td>0.396241</td>\n",
       "      <td>0.000000</td>\n",
       "      <td>0.300000</td>\n",
       "      <td>-0.045367</td>\n",
       "      <td>0.122477</td>\n",
       "      <td>796.075482</td>\n",
       "      <td>1</td>\n",
       "      <td>1</td>\n",
       "      <td>2</td>\n",
       "      <td>0</td>\n",
       "      <td>14.829893</td>\n",
       "      <td>0.720190</td>\n",
       "      <td>0.045617</td>\n",
       "      <td>-7.854970</td>\n",
       "      <td>-31.651760</td>\n",
       "      <td>15.531601</td>\n",
       "      <td>0.384312</td>\n",
       "      <td>0.561076</td>\n",
       "    </tr>\n",
       "    <tr>\n",
       "      <th>322</th>\n",
       "      <td>323</td>\n",
       "      <td>trimethylamine</td>\n",
       "      <td>Amines</td>\n",
       "      <td>Aliphatic amines</td>\n",
       "      <td>Tertiary aliphatic amines</td>\n",
       "      <td>276.068</td>\n",
       "      <td>0.240339</td>\n",
       "      <td>NIST</td>\n",
       "      <td>CN(C)C</td>\n",
       "      <td>276.020000</td>\n",
       "      <td>C3H9N</td>\n",
       "      <td>13</td>\n",
       "      <td>59.112</td>\n",
       "      <td>1.140116</td>\n",
       "      <td>0.492330</td>\n",
       "      <td>0.308103</td>\n",
       "      <td>1.934765</td>\n",
       "      <td>9</td>\n",
       "      <td>12</td>\n",
       "      <td>-0.207317</td>\n",
       "      <td>0.084171</td>\n",
       "      <td>0.575520</td>\n",
       "      <td>0.291488</td>\n",
       "      <td>-0.061573</td>\n",
       "      <td>0.006503</td>\n",
       "      <td>2.323790</td>\n",
       "      <td>2.560324</td>\n",
       "      <td>0.000000</td>\n",
       "      <td>0.500000</td>\n",
       "      <td>-0.077989</td>\n",
       "      <td>0.080963</td>\n",
       "      <td>462.278317</td>\n",
       "      <td>1</td>\n",
       "      <td>0</td>\n",
       "      <td>1</td>\n",
       "      <td>0</td>\n",
       "      <td>109.058920</td>\n",
       "      <td>1.176416</td>\n",
       "      <td>0.029365</td>\n",
       "      <td>-0.763550</td>\n",
       "      <td>-3.439881</td>\n",
       "      <td>20.043798</td>\n",
       "      <td>0.111111</td>\n",
       "      <td>0.881493</td>\n",
       "    </tr>\n",
       "    <tr>\n",
       "      <th>323</th>\n",
       "      <td>324</td>\n",
       "      <td>valeraldehyde</td>\n",
       "      <td>Aldehydes</td>\n",
       "      <td>Aliphatic aldehydes</td>\n",
       "      <td>Alkyl aldehydes</td>\n",
       "      <td>375.811</td>\n",
       "      <td>0.150969</td>\n",
       "      <td>NIST</td>\n",
       "      <td>CCCCC=O</td>\n",
       "      <td>376.150000</td>\n",
       "      <td>C5H10O</td>\n",
       "      <td>16</td>\n",
       "      <td>86.134</td>\n",
       "      <td>1.198192</td>\n",
       "      <td>0.491967</td>\n",
       "      <td>0.299548</td>\n",
       "      <td>1.491124</td>\n",
       "      <td>35</td>\n",
       "      <td>18</td>\n",
       "      <td>-0.249278</td>\n",
       "      <td>-0.020957</td>\n",
       "      <td>2.883166</td>\n",
       "      <td>0.228321</td>\n",
       "      <td>-0.135117</td>\n",
       "      <td>0.039980</td>\n",
       "      <td>2.339092</td>\n",
       "      <td>0.672180</td>\n",
       "      <td>0.080000</td>\n",
       "      <td>0.100000</td>\n",
       "      <td>0.060418</td>\n",
       "      <td>0.270536</td>\n",
       "      <td>721.261764</td>\n",
       "      <td>1</td>\n",
       "      <td>0</td>\n",
       "      <td>1</td>\n",
       "      <td>0</td>\n",
       "      <td>121.591801</td>\n",
       "      <td>1.154950</td>\n",
       "      <td>0.029459</td>\n",
       "      <td>-4.750226</td>\n",
       "      <td>-17.386313</td>\n",
       "      <td>28.463014</td>\n",
       "      <td>0.253451</td>\n",
       "      <td>0.643550</td>\n",
       "    </tr>\n",
       "    <tr>\n",
       "      <th>324</th>\n",
       "      <td>325</td>\n",
       "      <td>valeric acid</td>\n",
       "      <td>Carboxylic acids and salts</td>\n",
       "      <td>Aliphatic carboxylic acids</td>\n",
       "      <td>Alkylcarboxylic acids</td>\n",
       "      <td>459.293</td>\n",
       "      <td>0.059579</td>\n",
       "      <td>NIST</td>\n",
       "      <td>CCCCC(O)=O</td>\n",
       "      <td>458.650000</td>\n",
       "      <td>C5H10O2</td>\n",
       "      <td>17</td>\n",
       "      <td>102.133</td>\n",
       "      <td>1.332820</td>\n",
       "      <td>0.361608</td>\n",
       "      <td>0.326075</td>\n",
       "      <td>1.395437</td>\n",
       "      <td>52</td>\n",
       "      <td>24</td>\n",
       "      <td>-0.274111</td>\n",
       "      <td>0.010236</td>\n",
       "      <td>1.302018</td>\n",
       "      <td>0.284348</td>\n",
       "      <td>-0.131938</td>\n",
       "      <td>0.030610</td>\n",
       "      <td>2.678258</td>\n",
       "      <td>0.632640</td>\n",
       "      <td>0.160000</td>\n",
       "      <td>0.250000</td>\n",
       "      <td>0.088400</td>\n",
       "      <td>0.224462</td>\n",
       "      <td>999.623406</td>\n",
       "      <td>1</td>\n",
       "      <td>1</td>\n",
       "      <td>2</td>\n",
       "      <td>0</td>\n",
       "      <td>84.839551</td>\n",
       "      <td>0.893164</td>\n",
       "      <td>0.043941</td>\n",
       "      <td>-7.565020</td>\n",
       "      <td>-27.383187</td>\n",
       "      <td>30.517432</td>\n",
       "      <td>0.337332</td>\n",
       "      <td>0.536041</td>\n",
       "    </tr>\n",
       "  </tbody>\n",
       "</table>\n",
       "<p>325 rows × 44 columns</p>\n",
       "</div>"
      ],
      "text/plain": [
       "      ID                    Fuel  ...      RPCG      RNCG\n",
       "0      1  1,3,5-trimethylbenzene  ...  0.142741  0.128051\n",
       "1      2                1-Butene  ...  0.192906  0.349211\n",
       "2      3               1-Pentene  ...  0.163565  0.296013\n",
       "3      4     2,3-Dimethylpentane  ...  0.077032  0.165887\n",
       "4      5      2,5-dimethylhexane  ...  0.066477  0.140495\n",
       "..   ...                     ...  ...       ...       ...\n",
       "320  321          trans-2-hexene  ...  0.150380  0.240837\n",
       "321  322     trans-crotonic acid  ...  0.384312  0.561076\n",
       "322  323          trimethylamine  ...  0.111111  0.881493\n",
       "323  324           valeraldehyde  ...  0.253451  0.643550\n",
       "324  325            valeric acid  ...  0.337332  0.536041\n",
       "\n",
       "[325 rows x 44 columns]"
      ]
     },
     "execution_count": 33,
     "metadata": {
      "tags": []
     },
     "output_type": "execute_result"
    }
   ],
   "source": [
    "#df=pd.read_csv('gdrive/My Drive/FinalList.csv')\n",
    "\n",
    "df = pd.read_csv('FinalList.csv')\n",
    "df"
   ]
  },
  {
   "cell_type": "code",
   "execution_count": 6,
   "id": "8e2a39ce",
   "metadata": {
    "colab": {
     "base_uri": "https://localhost:8080/",
     "height": 224
    },
    "id": "8e2a39ce",
    "outputId": "d0dc2bef-fac8-414a-d306-e4a4153595a3"
   },
   "outputs": [
    {
     "data": {
      "text/html": [
       "<div>\n",
       "<style scoped>\n",
       "    .dataframe tbody tr th:only-of-type {\n",
       "        vertical-align: middle;\n",
       "    }\n",
       "\n",
       "    .dataframe tbody tr th {\n",
       "        vertical-align: top;\n",
       "    }\n",
       "\n",
       "    .dataframe thead th {\n",
       "        text-align: right;\n",
       "    }\n",
       "</style>\n",
       "<table border=\"1\" class=\"dataframe\">\n",
       "  <thead>\n",
       "    <tr style=\"text-align: right;\">\n",
       "      <th></th>\n",
       "      <th>BP2</th>\n",
       "      <th>N_Atoms</th>\n",
       "      <th>MW</th>\n",
       "      <th>IC0</th>\n",
       "      <th>PJ3</th>\n",
       "      <th>SIC0</th>\n",
       "      <th>GATS1v</th>\n",
       "      <th>Wiener</th>\n",
       "      <th>Z1</th>\n",
       "      <th>HOMO</th>\n",
       "      <th>LUMO</th>\n",
       "      <th>DM</th>\n",
       "      <th>EI</th>\n",
       "      <th>CP</th>\n",
       "      <th>H</th>\n",
       "      <th>BalabanJ</th>\n",
       "      <th>CIC3</th>\n",
       "      <th>GGI4</th>\n",
       "      <th>JGI1</th>\n",
       "      <th>Mor10v</th>\n",
       "      <th>Mor16se</th>\n",
       "      <th>GRAVH</th>\n",
       "      <th>HBondA</th>\n",
       "      <th>HBondD</th>\n",
       "      <th>HeteroA</th>\n",
       "      <th>AromaticR</th>\n",
       "      <th>CPS</th>\n",
       "      <th>GATS2m</th>\n",
       "      <th>FPSA3</th>\n",
       "      <th>WNSA3</th>\n",
       "      <th>PNSA3</th>\n",
       "      <th>ATS3p</th>\n",
       "      <th>RPCG</th>\n",
       "      <th>RNCG</th>\n",
       "    </tr>\n",
       "  </thead>\n",
       "  <tbody>\n",
       "    <tr>\n",
       "      <th>0</th>\n",
       "      <td>437.908</td>\n",
       "      <td>21</td>\n",
       "      <td>120.195</td>\n",
       "      <td>0.985228</td>\n",
       "      <td>0.318633</td>\n",
       "      <td>0.224307</td>\n",
       "      <td>1.111111</td>\n",
       "      <td>84</td>\n",
       "      <td>42</td>\n",
       "      <td>-0.227243</td>\n",
       "      <td>0.009793</td>\n",
       "      <td>0.037601</td>\n",
       "      <td>0.237036</td>\n",
       "      <td>-0.108725</td>\n",
       "      <td>0.024935</td>\n",
       "      <td>2.340852</td>\n",
       "      <td>2.264232</td>\n",
       "      <td>0.333333</td>\n",
       "      <td>0.333333</td>\n",
       "      <td>0.036857</td>\n",
       "      <td>0.507004</td>\n",
       "      <td>1308.111489</td>\n",
       "      <td>0</td>\n",
       "      <td>0</td>\n",
       "      <td>0</td>\n",
       "      <td>6</td>\n",
       "      <td>119.007881</td>\n",
       "      <td>0.810185</td>\n",
       "      <td>0.023771</td>\n",
       "      <td>-1.532920</td>\n",
       "      <td>-4.779854</td>\n",
       "      <td>58.506429</td>\n",
       "      <td>0.142741</td>\n",
       "      <td>0.128051</td>\n",
       "    </tr>\n",
       "    <tr>\n",
       "      <th>1</th>\n",
       "      <td>266.844</td>\n",
       "      <td>12</td>\n",
       "      <td>56.108</td>\n",
       "      <td>0.918296</td>\n",
       "      <td>0.363684</td>\n",
       "      <td>0.256152</td>\n",
       "      <td>1.500000</td>\n",
       "      <td>10</td>\n",
       "      <td>10</td>\n",
       "      <td>-0.249853</td>\n",
       "      <td>0.025890</td>\n",
       "      <td>0.336790</td>\n",
       "      <td>0.275743</td>\n",
       "      <td>-0.111982</td>\n",
       "      <td>0.022738</td>\n",
       "      <td>1.974745</td>\n",
       "      <td>0.729574</td>\n",
       "      <td>0.000000</td>\n",
       "      <td>0.166667</td>\n",
       "      <td>0.007181</td>\n",
       "      <td>0.014358</td>\n",
       "      <td>393.448663</td>\n",
       "      <td>0</td>\n",
       "      <td>0</td>\n",
       "      <td>0</td>\n",
       "      <td>0</td>\n",
       "      <td>97.357465</td>\n",
       "      <td>1.260417</td>\n",
       "      <td>0.026443</td>\n",
       "      <td>-1.232569</td>\n",
       "      <td>-5.459298</td>\n",
       "      <td>16.143384</td>\n",
       "      <td>0.192906</td>\n",
       "      <td>0.349211</td>\n",
       "    </tr>\n",
       "    <tr>\n",
       "      <th>2</th>\n",
       "      <td>303.102</td>\n",
       "      <td>15</td>\n",
       "      <td>70.135</td>\n",
       "      <td>0.918296</td>\n",
       "      <td>0.372016</td>\n",
       "      <td>0.235045</td>\n",
       "      <td>1.500000</td>\n",
       "      <td>20</td>\n",
       "      <td>14</td>\n",
       "      <td>-0.249613</td>\n",
       "      <td>0.025174</td>\n",
       "      <td>0.328765</td>\n",
       "      <td>0.274786</td>\n",
       "      <td>-0.112219</td>\n",
       "      <td>0.022915</td>\n",
       "      <td>2.190610</td>\n",
       "      <td>0.716993</td>\n",
       "      <td>0.000000</td>\n",
       "      <td>0.125000</td>\n",
       "      <td>0.051929</td>\n",
       "      <td>0.047339</td>\n",
       "      <td>545.352707</td>\n",
       "      <td>0</td>\n",
       "      <td>0</td>\n",
       "      <td>0</td>\n",
       "      <td>0</td>\n",
       "      <td>128.152792</td>\n",
       "      <td>1.312500</td>\n",
       "      <td>0.026643</td>\n",
       "      <td>-1.308787</td>\n",
       "      <td>-5.161937</td>\n",
       "      <td>25.164912</td>\n",
       "      <td>0.163565</td>\n",
       "      <td>0.296013</td>\n",
       "    </tr>\n",
       "    <tr>\n",
       "      <th>3</th>\n",
       "      <td>362.941</td>\n",
       "      <td>23</td>\n",
       "      <td>100.205</td>\n",
       "      <td>0.886541</td>\n",
       "      <td>0.454902</td>\n",
       "      <td>0.195983</td>\n",
       "      <td>1.642857</td>\n",
       "      <td>46</td>\n",
       "      <td>26</td>\n",
       "      <td>-0.296727</td>\n",
       "      <td>0.086465</td>\n",
       "      <td>0.056010</td>\n",
       "      <td>0.383192</td>\n",
       "      <td>-0.105131</td>\n",
       "      <td>0.014422</td>\n",
       "      <td>3.144208</td>\n",
       "      <td>1.621053</td>\n",
       "      <td>0.000000</td>\n",
       "      <td>0.333333</td>\n",
       "      <td>0.107795</td>\n",
       "      <td>0.221296</td>\n",
       "      <td>921.041855</td>\n",
       "      <td>0</td>\n",
       "      <td>0</td>\n",
       "      <td>0</td>\n",
       "      <td>0</td>\n",
       "      <td>185.939758</td>\n",
       "      <td>1.183248</td>\n",
       "      <td>0.019681</td>\n",
       "      <td>-1.059327</td>\n",
       "      <td>-3.541765</td>\n",
       "      <td>58.142762</td>\n",
       "      <td>0.077032</td>\n",
       "      <td>0.165887</td>\n",
       "    </tr>\n",
       "    <tr>\n",
       "      <th>4</th>\n",
       "      <td>382.231</td>\n",
       "      <td>26</td>\n",
       "      <td>114.232</td>\n",
       "      <td>0.890492</td>\n",
       "      <td>0.374392</td>\n",
       "      <td>0.189449</td>\n",
       "      <td>1.625000</td>\n",
       "      <td>74</td>\n",
       "      <td>30</td>\n",
       "      <td>-0.299486</td>\n",
       "      <td>0.081422</td>\n",
       "      <td>0.078138</td>\n",
       "      <td>0.380908</td>\n",
       "      <td>-0.109032</td>\n",
       "      <td>0.015605</td>\n",
       "      <td>2.927819</td>\n",
       "      <td>2.500752</td>\n",
       "      <td>0.320000</td>\n",
       "      <td>0.357143</td>\n",
       "      <td>0.049435</td>\n",
       "      <td>0.468037</td>\n",
       "      <td>1079.890676</td>\n",
       "      <td>0</td>\n",
       "      <td>0</td>\n",
       "      <td>0</td>\n",
       "      <td>0</td>\n",
       "      <td>207.363945</td>\n",
       "      <td>1.222512</td>\n",
       "      <td>0.019948</td>\n",
       "      <td>-1.227298</td>\n",
       "      <td>-3.733328</td>\n",
       "      <td>65.151442</td>\n",
       "      <td>0.066477</td>\n",
       "      <td>0.140495</td>\n",
       "    </tr>\n",
       "  </tbody>\n",
       "</table>\n",
       "</div>"
      ],
      "text/plain": [
       "       BP2  N_Atoms       MW       IC0  ...     PNSA3      ATS3p      RPCG      RNCG\n",
       "0  437.908       21  120.195  0.985228  ... -4.779854  58.506429  0.142741  0.128051\n",
       "1  266.844       12   56.108  0.918296  ... -5.459298  16.143384  0.192906  0.349211\n",
       "2  303.102       15   70.135  0.918296  ... -5.161937  25.164912  0.163565  0.296013\n",
       "3  362.941       23  100.205  0.886541  ... -3.541765  58.142762  0.077032  0.165887\n",
       "4  382.231       26  114.232  0.890492  ... -3.733328  65.151442  0.066477  0.140495\n",
       "\n",
       "[5 rows x 34 columns]"
      ]
     },
     "execution_count": 6,
     "metadata": {
      "tags": []
     },
     "output_type": "execute_result"
    }
   ],
   "source": [
    "# df.drop(['ID','Fuel','Molecular Formula','SMILES','Class','Sub-Class','Group','Uncertainty','Source','BP'],axis = 1,inplace = True)\n",
    "# df.head()"
   ]
  },
  {
   "cell_type": "markdown",
   "id": "fff04eb8",
   "metadata": {
    "id": "fff04eb8"
   },
   "source": [
    "# Visualize the data "
   ]
  },
  {
   "cell_type": "code",
   "execution_count": 7,
   "id": "2dcab6de",
   "metadata": {
    "colab": {
     "base_uri": "https://localhost:8080/"
    },
    "id": "2dcab6de",
    "outputId": "1f2f9527-a3dd-475a-a5f9-d5e2b2e14881"
   },
   "outputs": [
    {
     "name": "stdout",
     "output_type": "stream",
     "text": [
      "Minimum boiling point value (K):  111.667\n",
      "Maximum boiling point value (K):  655.803\n"
     ]
    },
    {
     "data": {
      "text/plain": [
       "count    325.00000\n",
       "mean     392.79946\n",
       "std       82.50687\n",
       "min      111.66700\n",
       "25%      338.16500\n",
       "50%      387.13700\n",
       "75%      443.71400\n",
       "max      655.80300\n",
       "Name: BP2, dtype: float64"
      ]
     },
     "execution_count": 7,
     "metadata": {
      "tags": []
     },
     "output_type": "execute_result"
    }
   ],
   "source": [
    "bp_dat = df['BP2']\n",
    "print('Minimum boiling point value (K): ', bp_dat.min())\n",
    "print('Maximum boiling point value (K): ', bp_dat.max())\n",
    "\n",
    "bp_dat.describe()"
   ]
  },
  {
   "cell_type": "code",
   "execution_count": 8,
   "id": "355c5602",
   "metadata": {
    "colab": {
     "base_uri": "https://localhost:8080/",
     "height": 312
    },
    "id": "355c5602",
    "outputId": "0ecdfef1-9175-44d8-ea2b-e7a2ad5c92c2"
   },
   "outputs": [
    {
     "data": {
      "text/plain": [
       "[Text(0.5, 1.0, 'Distribution of Observed Normal Boiling Point Values')]"
      ]
     },
     "execution_count": 8,
     "metadata": {
      "tags": []
     },
     "output_type": "execute_result"
    },
    {
     "data": {
      "image/png": "[encoded data removed]",
      "text/plain": [
       "<Figure size 432x288 with 1 Axes>"
      ]
     },
     "metadata": {
      "needs_background": "light",
      "tags": []
     },
     "output_type": "display_data"
    }
   ],
   "source": [
    "ax = sns.histplot(data=df, x='BP2', kde=True)\n",
    "ax.set(xlabel='Normal Boiling Point (K)')\n",
    "ax.set(title='Distribution of Observed Normal Boiling Point Values')"
   ]
  },
  {
   "cell_type": "markdown",
   "id": "c8c8a6ea",
   "metadata": {
    "id": "c8c8a6ea"
   },
   "source": [
    "# Correlation matrix containing the Pearson product-moment correlation coefficients"
   ]
  },
  {
   "cell_type": "code",
   "execution_count": 9,
   "id": "dd0a07a9",
   "metadata": {
    "id": "dd0a07a9"
   },
   "outputs": [],
   "source": [
    "# from mlxtend.plotting import heatmap\n",
    "# from matplotlib.pyplot import figure\n",
    "\n",
    "# names = ['BP','N_Atoms','MW','IC0','PJ3','SIC0','GATS1v','Wiener','Z1','HOMO','LUMO','DM','EI','CP','H','BalabanJ','CIC3','GGI4','JGI1','Mor10v','Mor16se']\n",
    "# cm = np.corrcoef(df[names].values.T) #P - measures the linear dependence between pairs of features\n",
    "# hm = heatmap(cm,\n",
    "#              figsize =(12,12),\n",
    "#              row_names = names,\n",
    "#              column_names = names)\n",
    "\n",
    "# plt.show()"
   ]
  },
  {
   "cell_type": "markdown",
   "id": "323fd5b8",
   "metadata": {
    "id": "323fd5b8"
   },
   "source": [
    "# Drop unnecessary variables"
   ]
  },
  {
   "cell_type": "code",
   "execution_count": 10,
   "id": "7f3dbbf8",
   "metadata": {
    "colab": {
     "base_uri": "https://localhost:8080/",
     "height": 419
    },
    "id": "7f3dbbf8",
    "outputId": "30accb4a-11e8-42b3-e632-4ae3db3a00fc"
   },
   "outputs": [
    {
     "data": {
      "text/html": [
       "<div>\n",
       "<style scoped>\n",
       "    .dataframe tbody tr th:only-of-type {\n",
       "        vertical-align: middle;\n",
       "    }\n",
       "\n",
       "    .dataframe tbody tr th {\n",
       "        vertical-align: top;\n",
       "    }\n",
       "\n",
       "    .dataframe thead th {\n",
       "        text-align: right;\n",
       "    }\n",
       "</style>\n",
       "<table border=\"1\" class=\"dataframe\">\n",
       "  <thead>\n",
       "    <tr style=\"text-align: right;\">\n",
       "      <th></th>\n",
       "      <th>BP2</th>\n",
       "      <th>Wiener</th>\n",
       "      <th>WNSA3</th>\n",
       "      <th>GATS1v</th>\n",
       "      <th>DM</th>\n",
       "      <th>BalabanJ</th>\n",
       "      <th>HBondD</th>\n",
       "    </tr>\n",
       "  </thead>\n",
       "  <tbody>\n",
       "    <tr>\n",
       "      <th>0</th>\n",
       "      <td>437.908</td>\n",
       "      <td>84</td>\n",
       "      <td>-1.532920</td>\n",
       "      <td>1.111111</td>\n",
       "      <td>0.037601</td>\n",
       "      <td>2.340852</td>\n",
       "      <td>0</td>\n",
       "    </tr>\n",
       "    <tr>\n",
       "      <th>1</th>\n",
       "      <td>266.844</td>\n",
       "      <td>10</td>\n",
       "      <td>-1.232569</td>\n",
       "      <td>1.500000</td>\n",
       "      <td>0.336790</td>\n",
       "      <td>1.974745</td>\n",
       "      <td>0</td>\n",
       "    </tr>\n",
       "    <tr>\n",
       "      <th>2</th>\n",
       "      <td>303.102</td>\n",
       "      <td>20</td>\n",
       "      <td>-1.308787</td>\n",
       "      <td>1.500000</td>\n",
       "      <td>0.328765</td>\n",
       "      <td>2.190610</td>\n",
       "      <td>0</td>\n",
       "    </tr>\n",
       "    <tr>\n",
       "      <th>3</th>\n",
       "      <td>362.941</td>\n",
       "      <td>46</td>\n",
       "      <td>-1.059327</td>\n",
       "      <td>1.642857</td>\n",
       "      <td>0.056010</td>\n",
       "      <td>3.144208</td>\n",
       "      <td>0</td>\n",
       "    </tr>\n",
       "    <tr>\n",
       "      <th>4</th>\n",
       "      <td>382.231</td>\n",
       "      <td>74</td>\n",
       "      <td>-1.227298</td>\n",
       "      <td>1.625000</td>\n",
       "      <td>0.078138</td>\n",
       "      <td>2.927819</td>\n",
       "      <td>0</td>\n",
       "    </tr>\n",
       "    <tr>\n",
       "      <th>...</th>\n",
       "      <td>...</td>\n",
       "      <td>...</td>\n",
       "      <td>...</td>\n",
       "      <td>...</td>\n",
       "      <td>...</td>\n",
       "      <td>...</td>\n",
       "      <td>...</td>\n",
       "    </tr>\n",
       "    <tr>\n",
       "      <th>320</th>\n",
       "      <td>341.005</td>\n",
       "      <td>35</td>\n",
       "      <td>-1.179628</td>\n",
       "      <td>1.500000</td>\n",
       "      <td>0.075640</td>\n",
       "      <td>2.339092</td>\n",
       "      <td>0</td>\n",
       "    </tr>\n",
       "    <tr>\n",
       "      <th>321</th>\n",
       "      <td>455.644</td>\n",
       "      <td>32</td>\n",
       "      <td>-7.854970</td>\n",
       "      <td>1.147885</td>\n",
       "      <td>1.794456</td>\n",
       "      <td>2.627215</td>\n",
       "      <td>1</td>\n",
       "    </tr>\n",
       "    <tr>\n",
       "      <th>322</th>\n",
       "      <td>276.068</td>\n",
       "      <td>9</td>\n",
       "      <td>-0.763550</td>\n",
       "      <td>1.934765</td>\n",
       "      <td>0.575520</td>\n",
       "      <td>2.323790</td>\n",
       "      <td>0</td>\n",
       "    </tr>\n",
       "    <tr>\n",
       "      <th>323</th>\n",
       "      <td>375.811</td>\n",
       "      <td>35</td>\n",
       "      <td>-4.750226</td>\n",
       "      <td>1.491124</td>\n",
       "      <td>2.883166</td>\n",
       "      <td>2.339092</td>\n",
       "      <td>0</td>\n",
       "    </tr>\n",
       "    <tr>\n",
       "      <th>324</th>\n",
       "      <td>459.293</td>\n",
       "      <td>52</td>\n",
       "      <td>-7.565020</td>\n",
       "      <td>1.395437</td>\n",
       "      <td>1.302018</td>\n",
       "      <td>2.678258</td>\n",
       "      <td>1</td>\n",
       "    </tr>\n",
       "  </tbody>\n",
       "</table>\n",
       "<p>325 rows × 7 columns</p>\n",
       "</div>"
      ],
      "text/plain": [
       "         BP2  Wiener     WNSA3    GATS1v        DM  BalabanJ  HBondD\n",
       "0    437.908      84 -1.532920  1.111111  0.037601  2.340852       0\n",
       "1    266.844      10 -1.232569  1.500000  0.336790  1.974745       0\n",
       "2    303.102      20 -1.308787  1.500000  0.328765  2.190610       0\n",
       "3    362.941      46 -1.059327  1.642857  0.056010  3.144208       0\n",
       "4    382.231      74 -1.227298  1.625000  0.078138  2.927819       0\n",
       "..       ...     ...       ...       ...       ...       ...     ...\n",
       "320  341.005      35 -1.179628  1.500000  0.075640  2.339092       0\n",
       "321  455.644      32 -7.854970  1.147885  1.794456  2.627215       1\n",
       "322  276.068       9 -0.763550  1.934765  0.575520  2.323790       0\n",
       "323  375.811      35 -4.750226  1.491124  2.883166  2.339092       0\n",
       "324  459.293      52 -7.565020  1.395437  1.302018  2.678258       1\n",
       "\n",
       "[325 rows x 7 columns]"
      ]
     },
     "execution_count": 10,
     "metadata": {
      "tags": []
     },
     "output_type": "execute_result"
    }
   ],
   "source": [
    "# keep = ['BP2',\n",
    "#  'Wiener',\n",
    "#  'WNSA3',\n",
    "#  'Mor16se',\n",
    "#  'AromaticR',\n",
    "#  'GATS1v',\n",
    "#  'Mor10v',\n",
    "#  'RNCG',\n",
    "#  'SIC0',\n",
    "#  'LUMO',\n",
    "#  'BalabanJ',\n",
    "#  'HBondD',\n",
    "#  'JGI1',\n",
    "#  'HOMO',\n",
    "#  'FPSA3']\n",
    "keep = ['BP2','Wiener','WNSA3','GATS1v','DM','BalabanJ','HBondD']\n",
    "df2 = df[keep]\n",
    "df2"
   ]
  },
  {
   "cell_type": "code",
   "execution_count": 11,
   "id": "a718ff34",
   "metadata": {
    "id": "a718ff34"
   },
   "outputs": [],
   "source": [
    "# xvars=[\n",
    "#  'WNSA3',\n",
    "#  'Mor16se',\n",
    "#  'AromaticR',\n",
    "#  'GATS1v',\n",
    "#  'Mor10v',\n",
    "#  'RNCG',\n",
    "#  'SIC0',\n",
    "#  'LUMO',\n",
    "#  'BalabanJ',\n",
    "#  'HBondD',\n",
    "#  'JGI1']\n",
    "# sns.pairplot(df,x_vars=xvars,y_vars = 'BP2')"
   ]
  },
  {
   "cell_type": "markdown",
   "id": "6ca063ea",
   "metadata": {
    "id": "6ca063ea"
   },
   "source": [
    "# Use 80% of data for training, 20% for testing"
   ]
  },
  {
   "cell_type": "code",
   "execution_count": 12,
   "id": "53920d2d",
   "metadata": {
    "id": "53920d2d"
   },
   "outputs": [],
   "source": [
    "from sklearn.model_selection import train_test_split\n",
    "\n",
    "x = df2.drop(['BP2'],axis = 1).to_numpy()\n",
    "y = df2['BP2'].values\n",
    "x_train, x_test, y_train,y_test = train_test_split(x,y,test_size = 0.2,random_state = 0)"
   ]
  },
  {
   "cell_type": "markdown",
   "id": "f6b75e52",
   "metadata": {
    "id": "f6b75e52"
   },
   "source": [
    "# Multiple Linear Regression"
   ]
  },
  {
   "cell_type": "code",
   "execution_count": 18,
   "id": "a5b61e37",
   "metadata": {
    "id": "a5b61e37"
   },
   "outputs": [],
   "source": [
    "from sklearn.linear_model import LinearRegression\n",
    "from sklearn.preprocessing import MinMaxScaler\n",
    "from sklearn.pipeline import Pipeline\n",
    "\n",
    "slr = LinearRegression()\n",
    "\n",
    "steps0 = [('scaler', MinMaxScaler()), ('MLR', slr)]\n",
    "pipeline0 = Pipeline(steps0)"
   ]
  },
  {
   "cell_type": "code",
   "execution_count": 19,
   "id": "f52a85c0",
   "metadata": {
    "id": "f52a85c0"
   },
   "outputs": [],
   "source": [
    "pipeline0.fit(x_train,y_train)\n",
    "y_train_pred = pipeline0.predict(x_train)\n",
    "y_test_pred = pipeline0.predict(x_test)"
   ]
  },
  {
   "cell_type": "code",
   "execution_count": 20,
   "id": "93704ea8",
   "metadata": {
    "colab": {
     "base_uri": "https://localhost:8080/",
     "height": 295
    },
    "id": "93704ea8",
    "outputId": "d8fd6d49-14b8-4c52-c495-826c52384087"
   },
   "outputs": [
    {
     "data": {
      "image/png": "[encoded data removed]",
      "text/plain": [
       "<Figure size 432x288 with 1 Axes>"
      ]
     },
     "metadata": {
      "needs_background": "light",
      "tags": []
     },
     "output_type": "display_data"
    }
   ],
   "source": [
    "plt.scatter(y_train_pred,y_train_pred-y_train,\n",
    "             c ='steelblue', marker = 'o', edgecolor = 'white',\n",
    "             label = 'Training  Data')\n",
    "            \n",
    "plt.scatter(y_test_pred,y_test_pred-y_test,\n",
    "            c='limegreen',marker = 's', edgecolor = 'white',\n",
    "            label ='Test Data')\n",
    "\n",
    "plt.xlabel('Predicted Values')\n",
    "plt.ylabel('Resoiduals')\n",
    "plt.legend(loc='upper left')\n",
    "plt.hlines(y=0, xmin= -200, xmax = 700, color='black',lw=2)\n",
    "plt.xlim([-200,700])\n",
    "plt.title('Multiple Linear Regression')\n",
    "plt.grid()\n",
    "plt.show()\n",
    "#plots the residuals: differences or vertical distances between the actual and predicted values\n",
    "#plots residuals vs the predicted values"
   ]
  },
  {
   "cell_type": "code",
   "execution_count": 21,
   "id": "c0bc79fd",
   "metadata": {
    "colab": {
     "base_uri": "https://localhost:8080/",
     "height": 312
    },
    "id": "c0bc79fd",
    "outputId": "b432f93a-5919-421d-8805-d76ba84353f8"
   },
   "outputs": [
    {
     "data": {
      "text/plain": [
       "[<matplotlib.lines.Line2D at 0x7f8488e1b2d0>]"
      ]
     },
     "execution_count": 21,
     "metadata": {
      "tags": []
     },
     "output_type": "execute_result"
    },
    {
     "data": {
      "image/png": "[encoded data removed]",
      "text/plain": [
       "<Figure size 432x288 with 1 Axes>"
      ]
     },
     "metadata": {
      "needs_background": "light",
      "tags": []
     },
     "output_type": "display_data"
    }
   ],
   "source": [
    "plt.scatter(y_test,y_test_pred,color='red')\n",
    "plt.xlabel('Actual Boiling Point (K)')\n",
    "plt.ylabel('Predicted Boiling Point (K)')\n",
    "plt.grid()\n",
    "plt.title('Multiple Linear Regression')\n",
    "plt.plot(range(700), range(700),'k')"
   ]
  },
  {
   "cell_type": "code",
   "execution_count": 22,
   "id": "dfd5a756",
   "metadata": {
    "colab": {
     "base_uri": "https://localhost:8080/"
    },
    "id": "dfd5a756",
    "outputId": "20b7b444-fbfe-4727-9765-d6fcc0a72e80"
   },
   "outputs": [
    {
     "name": "stdout",
     "output_type": "stream",
     "text": [
      "RMSE train: 41.555, test: 54.965\n"
     ]
    }
   ],
   "source": [
    "from sklearn.metrics import mean_squared_error\n",
    "\n",
    "print('RMSE train: %.3f, test: %.3f' % (\n",
    "        mean_squared_error(y_train,y_train_pred,squared=False),\n",
    "        mean_squared_error(y_test, y_test_pred,squared=False)))\n",
    "\n",
    "#overfitting the data"
   ]
  },
  {
   "cell_type": "code",
   "execution_count": 23,
   "id": "97517fe5",
   "metadata": {
    "colab": {
     "base_uri": "https://localhost:8080/"
    },
    "id": "97517fe5",
    "outputId": "d2e3da16-7062-4c48-dfcd-06548ecfee19"
   },
   "outputs": [
    {
     "name": "stdout",
     "output_type": "stream",
     "text": [
      "R^2 train: 0.726, test: 0.647\n"
     ]
    }
   ],
   "source": [
    "from sklearn.metrics import r2_score\n",
    "print('R^2 train: %.3f, test: %.3f' %\n",
    "       (r2_score(y_train,y_train_pred),\n",
    "        r2_score(y_test, y_test_pred)))"
   ]
  },
  {
   "cell_type": "markdown",
   "id": "59745ce9",
   "metadata": {
    "id": "59745ce9"
   },
   "source": [
    "# Support Vector Machine"
   ]
  },
  {
   "cell_type": "code",
   "execution_count": null,
   "id": "c44eafe1",
   "metadata": {
    "colab": {
     "base_uri": "https://localhost:8080/"
    },
    "id": "c44eafe1",
    "outputId": "35a5e4af-4e71-4649-bc33-d3017221e52f"
   },
   "outputs": [
    {
     "name": "stdout",
     "output_type": "stream",
     "text": [
      "Fitting 10 folds for each of 60 candidates, totalling 600 fits\n"
     ]
    },
    {
     "data": {
      "text/plain": [
       "GridSearchCV(cv=KFold(n_splits=10, random_state=9, shuffle=True),\n",
       "             estimator=Pipeline(steps=[('scaler', MinMaxScaler()),\n",
       "                                       ('SVR', SVR())]),\n",
       "             n_jobs=-1,\n",
       "             param_grid={'SVR__C': [100, 150, 200, 250, 290, 300, 310, 350, 375,\n",
       "                                    380, 400, 430],\n",
       "                         'SVR__gamma': ['auto', 'scale', 0.001, 0.1, 10],\n",
       "                         'SVR__kernel': ['rbf']},\n",
       "             scoring='neg_mean_squared_error', verbose=2)"
      ]
     },
     "execution_count": 18,
     "metadata": {
      "tags": []
     },
     "output_type": "execute_result"
    }
   ],
   "source": [
    "from sklearn.svm import SVR\n",
    "from sklearn.model_selection import GridSearchCV,RandomizedSearchCV,KFold\n",
    "param_grid={\n",
    "            'SVR__C': [100,150,200,250,290,300,310,350,375,380,400,430],\n",
    "            'SVR__gamma': ['auto','scale',.001,.1,10],\n",
    "            #'SVR__kernel': ['linear', 'poly', 'rbf', 'sigmoid'],\n",
    "            'SVR__kernel': ['rbf']}\n",
    "#             'SVR__degree' : [2,3,4,5,6,7], #Only applies to poly\n",
    "#             'SVR__coef0' : [0.01,0.02,0.1,0.2,0.3,0.4]} #only applies to poly and sigmoid\n",
    "\n",
    "steps1 = [('scaler', MinMaxScaler()),('SVR', SVR())]\n",
    "pipeline1 = Pipeline(steps1)\n",
    "\n",
    "grid =GridSearchCV(pipeline1,param_grid,cv=KFold(n_splits=10, shuffle=True, random_state=9),\n",
    "                   n_jobs=-1, verbose=2,scoring='neg_mean_squared_error')\n",
    "grid.fit(x_train,y_train)\n"
   ]
  },
  {
   "cell_type": "code",
   "execution_count": null,
   "id": "5a9da031",
   "metadata": {
    "colab": {
     "base_uri": "https://localhost:8080/"
    },
    "id": "5a9da031",
    "outputId": "d252d540-51d2-4352-96e3-8cfb88461f67"
   },
   "outputs": [
    {
     "name": "stdout",
     "output_type": "stream",
     "text": [
      "{'SVR__C': 430, 'SVR__gamma': 'scale', 'SVR__kernel': 'rbf'}\n",
      "Mean test score: -1053.369\n"
     ]
    }
   ],
   "source": [
    "print(grid.best_params_)\n",
    "print('Mean test score: %.3f' % (grid.best_score_))"
   ]
  },
  {
   "cell_type": "code",
   "execution_count": null,
   "id": "80b4d014",
   "metadata": {
    "colab": {
     "base_uri": "https://localhost:8080/"
    },
    "id": "80b4d014",
    "outputId": "d7c5d426-6fd6-47a9-85bc-13ef798aa38a"
   },
   "outputs": [
    {
     "name": "stdout",
     "output_type": "stream",
     "text": [
      "R^2 train: 0.891, test: 0.868\n"
     ]
    }
   ],
   "source": [
    "y_train_pred2 = grid.predict(x_train)\n",
    "y_test_pred2 = grid.predict(x_test) \n",
    " \n",
    "print('R^2 train: %.3f, test: %.3f' %\n",
    "       (r2_score(y_train,y_train_pred2),\n",
    "        r2_score(y_test, y_test_pred2)))"
   ]
  },
  {
   "cell_type": "code",
   "execution_count": null,
   "id": "7e014b93",
   "metadata": {
    "id": "7e014b93",
    "outputId": "d15dfff9-9168-4155-a9bc-593877bdd0fb"
   },
   "outputs": [
    {
     "name": "stdout",
     "output_type": "stream",
     "text": [
      "RMSE train: 26.179, test: 33.643\n"
     ]
    }
   ],
   "source": [
    "from sklearn.metrics import mean_squared_error\n",
    "\n",
    "print('RMSE train: %.3f, test: %.3f' % (\n",
    "        mean_squared_error(y_train,y_train_pred2,squared=False),\n",
    "        mean_squared_error(y_test, y_test_pred2,squared=False)))"
   ]
  },
  {
   "cell_type": "code",
   "execution_count": null,
   "id": "fa07e792",
   "metadata": {
    "id": "fa07e792",
    "outputId": "44866325-c67e-4f5b-85c2-f93efbfd0475"
   },
   "outputs": [
    {
     "data": {
      "image/png": "[encoded data removed]",
      "text/plain": [
       "<Figure size 432x288 with 1 Axes>"
      ]
     },
     "metadata": {
      "needs_background": "light",
      "tags": []
     },
     "output_type": "display_data"
    }
   ],
   "source": [
    "plt.scatter(y_train_pred2,\n",
    "            y_train_pred2 - y_train,\n",
    "            c= 'steelblue',\n",
    "            edgecolor = 'white',\n",
    "            marker = 'o',\n",
    "            s = 35,\n",
    "            alpha = 0.9,\n",
    "            label = 'Training Data')\n",
    "\n",
    "plt.scatter(y_test_pred2,\n",
    "            y_test_pred2 - y_test,\n",
    "            c = 'limegreen',\n",
    "            edgecolor = 'white',\n",
    "            marker = 's',\n",
    "            s=35,\n",
    "            alpha = 0.9,\n",
    "            label = 'Test Data')\n",
    "\n",
    "plt.xlabel('Predicted values')\n",
    "plt.ylabel('Residuals')\n",
    "plt.legend(loc='upper left')\n",
    "plt.hlines(y=0,xmin=-200,xmax=700,lw=2,color='black')\n",
    "plt.xlim([-200,700])\n",
    "plt.tight_layout()\n",
    "plt.grid()\n",
    "plt.title('Support Vector Machine')\n",
    "plt.show()"
   ]
  },
  {
   "cell_type": "code",
   "execution_count": null,
   "id": "4277e175",
   "metadata": {
    "id": "4277e175",
    "outputId": "56a1d3cd-76d1-41e0-8dad-b5cb9617c218"
   },
   "outputs": [
    {
     "data": {
      "text/plain": [
       "[<matplotlib.lines.Line2D at 0x17b025f0708>]"
      ]
     },
     "execution_count": 23,
     "metadata": {
      "tags": []
     },
     "output_type": "execute_result"
    },
    {
     "data": {
      "image/png": "[encoded data removed]",
      "text/plain": [
       "<Figure size 432x288 with 1 Axes>"
      ]
     },
     "metadata": {
      "needs_background": "light",
      "tags": []
     },
     "output_type": "display_data"
    }
   ],
   "source": [
    "plt.scatter(y_test,y_test_pred2,color='red')\n",
    "plt.xlabel('Actual Boiling Point (K)')\n",
    "plt.ylabel('Predicted Boiling Point (K)')\n",
    "plt.grid()\n",
    "plt.title('Support Vector Machine')\n",
    "plt.plot(range(700), range(700),'k')"
   ]
  },
  {
   "cell_type": "markdown",
   "id": "736e5bf2",
   "metadata": {
    "id": "736e5bf2"
   },
   "source": [
    "# Random Forest"
   ]
  },
  {
   "cell_type": "code",
   "execution_count": 44,
   "id": "ffef51c2",
   "metadata": {
    "colab": {
     "base_uri": "https://localhost:8080/"
    },
    "id": "ffef51c2",
    "outputId": "30c03756-8b76-4eb4-a4ed-e493b100e8f4"
   },
   "outputs": [
    {
     "name": "stdout",
     "output_type": "stream",
     "text": [
      "Fitting 10 folds for each of 270 candidates, totalling 2700 fits\n"
     ]
    },
    {
     "name": "stderr",
     "output_type": "stream",
     "text": [
      "[Parallel(n_jobs=-1)]: Using backend LokyBackend with 2 concurrent workers.\n",
      "[Parallel(n_jobs=-1)]: Done  37 tasks      | elapsed:    4.2s\n",
      "[Parallel(n_jobs=-1)]: Done 158 tasks      | elapsed:   23.4s\n",
      "[Parallel(n_jobs=-1)]: Done 361 tasks      | elapsed:   59.1s\n",
      "[Parallel(n_jobs=-1)]: Done 644 tasks      | elapsed:  1.7min\n",
      "[Parallel(n_jobs=-1)]: Done 1009 tasks      | elapsed:  2.5min\n",
      "[Parallel(n_jobs=-1)]: Done 1454 tasks      | elapsed:  3.6min\n",
      "[Parallel(n_jobs=-1)]: Done 1981 tasks      | elapsed:  4.8min\n",
      "[Parallel(n_jobs=-1)]: Done 2588 tasks      | elapsed:  6.0min\n",
      "[Parallel(n_jobs=-1)]: Done 2700 out of 2700 | elapsed:  6.2min finished\n"
     ]
    },
    {
     "data": {
      "text/plain": [
       "GridSearchCV(cv=KFold(n_splits=10, random_state=9, shuffle=True),\n",
       "             error_score=nan,\n",
       "             estimator=RandomForestRegressor(bootstrap=True, ccp_alpha=0.0,\n",
       "                                             criterion='mse', max_depth=None,\n",
       "                                             max_features='auto',\n",
       "                                             max_leaf_nodes=None,\n",
       "                                             max_samples=None,\n",
       "                                             min_impurity_decrease=0.0,\n",
       "                                             min_impurity_split=None,\n",
       "                                             min_samples_leaf=1,\n",
       "                                             min_samples_split=2,\n",
       "                                             min_weight_fraction_leaf=0.0,\n",
       "                                             n_es...None,\n",
       "                                             oob_score=False, random_state=0,\n",
       "                                             verbose=0, warm_start=False),\n",
       "             iid='deprecated', n_jobs=-1,\n",
       "             param_grid={'bootstrap': [True, False],\n",
       "                         'max_features': ['auto', 'sqrt', 'log2'],\n",
       "                         'min_samples_split': [2, 3, 4, 5, 8],\n",
       "                         'n_estimators': [50, 60, 65, 70, 75, 100, 120, 130,\n",
       "                                          350]},\n",
       "             pre_dispatch='2*n_jobs', refit=True, return_train_score=False,\n",
       "             scoring='neg_mean_squared_error', verbose=2)"
      ]
     },
     "execution_count": 44,
     "metadata": {
      "tags": []
     },
     "output_type": "execute_result"
    }
   ],
   "source": [
    "from sklearn.ensemble import RandomForestRegressor\n",
    "from sklearn.feature_selection import RFECV\n",
    "from sklearn.model_selection import GridSearchCV\n",
    "\n",
    "param_grid2 = {\n",
    "    \"n_estimators\" : [50,60,65,70,75,100,120,130,350],\n",
    "    \"max_features\" : [\"auto\", \"sqrt\", \"log2\"],\n",
    "    \"min_samples_split\": [2,3,4,5,8],\n",
    "    \"bootstrap\": [True, False]}\n",
    "    \n",
    "\n",
    "grid2 = GridSearchCV(RandomForestRegressor(random_state=0),param_grid2,\n",
    "                     cv=KFold(n_splits=10, shuffle=True, random_state=9),n_jobs=-1, verbose=2,scoring='neg_mean_squared_error')\n",
    "grid2.fit(x_train,y_train)"
   ]
  },
  {
   "cell_type": "code",
   "execution_count": 47,
   "id": "025d12f2",
   "metadata": {
    "colab": {
     "base_uri": "https://localhost:8080/"
    },
    "id": "025d12f2",
    "outputId": "86a71edc-0963-43bf-f62f-47eadb27d8f6"
   },
   "outputs": [
    {
     "name": "stdout",
     "output_type": "stream",
     "text": [
      "{'bootstrap': True, 'max_features': 'auto', 'min_samples_split': 2, 'n_estimators': 350}\n",
      "Mean test score: -361.710\n"
     ]
    }
   ],
   "source": [
    "print(grid2.best_params_)\n",
    "print('Mean test score: %.3f' % (grid2.best_score_))"
   ]
  },
  {
   "cell_type": "code",
   "execution_count": 48,
   "id": "f9bb1974",
   "metadata": {
    "colab": {
     "base_uri": "https://localhost:8080/"
    },
    "id": "f9bb1974",
    "outputId": "bbb8f1db-0085-4b59-e10d-828820fad3e6"
   },
   "outputs": [
    {
     "name": "stdout",
     "output_type": "stream",
     "text": [
      "R^2 train: 0.991, test: 0.958\n"
     ]
    }
   ],
   "source": [
    "y_train_pred3= grid2.predict(x_train)\n",
    "y_test_pred3 = grid2.predict(x_test) \n",
    "print('R^2 train: %.3f, test: %.3f' %\n",
    "       (r2_score(y_train,y_train_pred3),\n",
    "        r2_score(y_test, y_test_pred3)))"
   ]
  },
  {
   "cell_type": "code",
   "execution_count": 54,
   "id": "f18ca195",
   "metadata": {
    "colab": {
     "base_uri": "https://localhost:8080/"
    },
    "id": "f18ca195",
    "outputId": "81e14f71-6090-4741-c40d-0646dde1a2bc"
   },
   "outputs": [
    {
     "name": "stdout",
     "output_type": "stream",
     "text": [
      "RMSE train: 7.486, test: 19.050\n"
     ]
    }
   ],
   "source": [
    "from sklearn.metrics import mean_squared_error\n",
    "\n",
    "print('RMSE train: %.3f, test: %.3f' % (\n",
    "        mean_squared_error(y_train,y_train_pred3,squared=False),\n",
    "        mean_squared_error(y_test, y_test_pred3,squared=False)))"
   ]
  },
  {
   "cell_type": "code",
   "execution_count": 50,
   "id": "ebeb60f3",
   "metadata": {
    "colab": {
     "base_uri": "https://localhost:8080/",
     "height": 313
    },
    "id": "ebeb60f3",
    "outputId": "d3ab6ef9-65cb-4ab2-8ab0-ae8f319c5423"
   },
   "outputs": [
    {
     "data": {
      "image/png": "[encoded data removed]",
      "text/plain": [
       "<Figure size 432x288 with 1 Axes>"
      ]
     },
     "metadata": {
      "needs_background": "light",
      "tags": []
     },
     "output_type": "display_data"
    }
   ],
   "source": [
    "plt.scatter(y_train_pred3,\n",
    "            y_train_pred3 - y_train,\n",
    "            c= 'steelblue',\n",
    "            edgecolor = 'white',\n",
    "            marker = 'o',\n",
    "            s = 35,\n",
    "            alpha = 0.9,\n",
    "            label = 'Training Data')\n",
    "\n",
    "plt.scatter(y_test_pred3,\n",
    "            y_test_pred3 - y_test,\n",
    "            c = 'limegreen',\n",
    "            edgecolor = 'white',\n",
    "            marker = 's',\n",
    "            s=35,\n",
    "            alpha = 0.9,\n",
    "            label = 'Test Data')\n",
    "\n",
    "plt.xlabel('Predicted values')\n",
    "plt.ylabel('Residuals')\n",
    "plt.legend(loc='upper left')\n",
    "plt.hlines(y=0,xmin=-200,xmax=700,lw=2,color='black')\n",
    "plt.xlim([-200,700])\n",
    "plt.tight_layout()\n",
    "plt.grid()\n",
    "plt.title('Random Forest')\n",
    "plt.show()"
   ]
  },
  {
   "cell_type": "code",
   "execution_count": 51,
   "id": "9af386b6",
   "metadata": {
    "colab": {
     "base_uri": "https://localhost:8080/",
     "height": 312
    },
    "id": "9af386b6",
    "outputId": "1605387c-03e1-484a-e43a-a70b869dd8e7"
   },
   "outputs": [
    {
     "data": {
      "text/plain": [
       "[<matplotlib.lines.Line2D at 0x7f847e5fb6d0>]"
      ]
     },
     "execution_count": 51,
     "metadata": {
      "tags": []
     },
     "output_type": "execute_result"
    },
    {
     "data": {
      "image/png": "[encoded data removed]",
      "text/plain": [
       "<Figure size 432x288 with 1 Axes>"
      ]
     },
     "metadata": {
      "needs_background": "light",
      "tags": []
     },
     "output_type": "display_data"
    }
   ],
   "source": [
    "plt.scatter(y_train,y_train_pred3,color='blue',label='Training Data')\n",
    "plt.scatter(y_test,y_test_pred3,color='red',label='Test Data')\n",
    "plt.xlabel('Actual Boiling Point (K)')\n",
    "plt.ylabel('Predicted Boiling Point (K)')\n",
    "plt.legend(loc='upper left')\n",
    "plt.grid()\n",
    "plt.title('Random Forest')\n",
    "plt.plot(range(700), range(700),'k')"
   ]
  },
  {
   "cell_type": "code",
   "execution_count": 57,
   "id": "NYnEGO8LpiUG",
   "metadata": {
    "colab": {
     "base_uri": "https://localhost:8080/",
     "height": 419
    },
    "id": "NYnEGO8LpiUG",
    "outputId": "c2b97f24-73a1-4305-dc06-da430f767a4a"
   },
   "outputs": [
    {
     "data": {
      "text/html": [
       "<div>\n",
       "<style scoped>\n",
       "    .dataframe tbody tr th:only-of-type {\n",
       "        vertical-align: middle;\n",
       "    }\n",
       "\n",
       "    .dataframe tbody tr th {\n",
       "        vertical-align: top;\n",
       "    }\n",
       "\n",
       "    .dataframe thead th {\n",
       "        text-align: right;\n",
       "    }\n",
       "</style>\n",
       "<table border=\"1\" class=\"dataframe\">\n",
       "  <thead>\n",
       "    <tr style=\"text-align: right;\">\n",
       "      <th></th>\n",
       "      <th>Residuals</th>\n",
       "      <th>Actual BP</th>\n",
       "    </tr>\n",
       "  </thead>\n",
       "  <tbody>\n",
       "    <tr>\n",
       "      <th>0</th>\n",
       "      <td>6.362363</td>\n",
       "      <td>353.15000</td>\n",
       "    </tr>\n",
       "    <tr>\n",
       "      <th>1</th>\n",
       "      <td>-1.279516</td>\n",
       "      <td>371.53889</td>\n",
       "    </tr>\n",
       "    <tr>\n",
       "      <th>2</th>\n",
       "      <td>9.021309</td>\n",
       "      <td>325.47400</td>\n",
       "    </tr>\n",
       "    <tr>\n",
       "      <th>3</th>\n",
       "      <td>-4.339994</td>\n",
       "      <td>560.02700</td>\n",
       "    </tr>\n",
       "    <tr>\n",
       "      <th>4</th>\n",
       "      <td>-10.606694</td>\n",
       "      <td>344.93600</td>\n",
       "    </tr>\n",
       "    <tr>\n",
       "      <th>...</th>\n",
       "      <td>...</td>\n",
       "      <td>...</td>\n",
       "    </tr>\n",
       "    <tr>\n",
       "      <th>60</th>\n",
       "      <td>14.333791</td>\n",
       "      <td>341.21900</td>\n",
       "    </tr>\n",
       "    <tr>\n",
       "      <th>61</th>\n",
       "      <td>1.752971</td>\n",
       "      <td>537.46500</td>\n",
       "    </tr>\n",
       "    <tr>\n",
       "      <th>62</th>\n",
       "      <td>-34.052597</td>\n",
       "      <td>555.88100</td>\n",
       "    </tr>\n",
       "    <tr>\n",
       "      <th>63</th>\n",
       "      <td>25.844486</td>\n",
       "      <td>304.76400</td>\n",
       "    </tr>\n",
       "    <tr>\n",
       "      <th>64</th>\n",
       "      <td>4.442303</td>\n",
       "      <td>393.21500</td>\n",
       "    </tr>\n",
       "  </tbody>\n",
       "</table>\n",
       "<p>65 rows × 2 columns</p>\n",
       "</div>"
      ],
      "text/plain": [
       "    Residuals  Actual BP\n",
       "0    6.362363  353.15000\n",
       "1   -1.279516  371.53889\n",
       "2    9.021309  325.47400\n",
       "3   -4.339994  560.02700\n",
       "4  -10.606694  344.93600\n",
       "..        ...        ...\n",
       "60  14.333791  341.21900\n",
       "61   1.752971  537.46500\n",
       "62 -34.052597  555.88100\n",
       "63  25.844486  304.76400\n",
       "64   4.442303  393.21500\n",
       "\n",
       "[65 rows x 2 columns]"
      ]
     },
     "execution_count": 57,
     "metadata": {
      "tags": []
     },
     "output_type": "execute_result"
    }
   ],
   "source": [
    "res_test0 =y_test_pred3-y_test\n",
    "res_test0= res_test0.tolist()\n",
    "list_of_tuples0 = list(zip(res_test0,y_test))\n",
    "outliers0 = pd.DataFrame(list_of_tuples0,columns=['Residuals','Actual BP'])\n",
    "outliers0"
   ]
  },
  {
   "cell_type": "code",
   "execution_count": 59,
   "id": "6hnAv9MC0MON",
   "metadata": {
    "colab": {
     "base_uri": "https://localhost:8080/",
     "height": 80
    },
    "id": "6hnAv9MC0MON",
    "outputId": "2b0b4fcc-aedd-4453-fa16-1c3be646e006"
   },
   "outputs": [
    {
     "data": {
      "text/html": [
       "<div>\n",
       "<style scoped>\n",
       "    .dataframe tbody tr th:only-of-type {\n",
       "        vertical-align: middle;\n",
       "    }\n",
       "\n",
       "    .dataframe tbody tr th {\n",
       "        vertical-align: top;\n",
       "    }\n",
       "\n",
       "    .dataframe thead th {\n",
       "        text-align: right;\n",
       "    }\n",
       "</style>\n",
       "<table border=\"1\" class=\"dataframe\">\n",
       "  <thead>\n",
       "    <tr style=\"text-align: right;\">\n",
       "      <th></th>\n",
       "      <th>Residuals</th>\n",
       "      <th>Actual BP</th>\n",
       "    </tr>\n",
       "  </thead>\n",
       "  <tbody>\n",
       "    <tr>\n",
       "      <th>11</th>\n",
       "      <td>-68.596715</td>\n",
       "      <td>337.632</td>\n",
       "    </tr>\n",
       "  </tbody>\n",
       "</table>\n",
       "</div>"
      ],
      "text/plain": [
       "    Residuals  Actual BP\n",
       "11 -68.596715    337.632"
      ]
     },
     "execution_count": 59,
     "metadata": {
      "tags": []
     },
     "output_type": "execute_result"
    }
   ],
   "source": [
    "outliers0.loc[outliers0.Residuals<-60]"
   ]
  },
  {
   "cell_type": "code",
   "execution_count": 60,
   "id": "OaJ4Stwv0WhI",
   "metadata": {
    "colab": {
     "base_uri": "https://localhost:8080/",
     "height": 86
    },
    "id": "OaJ4Stwv0WhI",
    "outputId": "9afd326b-1991-42ed-8b67-96cc6e7f4af8"
   },
   "outputs": [
    {
     "data": {
      "text/html": [
       "<div>\n",
       "<style scoped>\n",
       "    .dataframe tbody tr th:only-of-type {\n",
       "        vertical-align: middle;\n",
       "    }\n",
       "\n",
       "    .dataframe tbody tr th {\n",
       "        vertical-align: top;\n",
       "    }\n",
       "\n",
       "    .dataframe thead th {\n",
       "        text-align: right;\n",
       "    }\n",
       "</style>\n",
       "<table border=\"1\" class=\"dataframe\">\n",
       "  <thead>\n",
       "    <tr style=\"text-align: right;\">\n",
       "      <th></th>\n",
       "      <th>ID</th>\n",
       "      <th>Fuel</th>\n",
       "      <th>Class</th>\n",
       "      <th>Sub-Class</th>\n",
       "      <th>Group</th>\n",
       "      <th>BP2</th>\n",
       "      <th>Uncertainty</th>\n",
       "      <th>Source</th>\n",
       "      <th>SMILES</th>\n",
       "      <th>BP</th>\n",
       "      <th>Molecular Formula</th>\n",
       "      <th>N_Atoms</th>\n",
       "      <th>MW</th>\n",
       "      <th>IC0</th>\n",
       "      <th>PJ3</th>\n",
       "      <th>SIC0</th>\n",
       "      <th>GATS1v</th>\n",
       "      <th>Wiener</th>\n",
       "      <th>Z1</th>\n",
       "      <th>HOMO</th>\n",
       "      <th>LUMO</th>\n",
       "      <th>DM</th>\n",
       "      <th>EI</th>\n",
       "      <th>CP</th>\n",
       "      <th>H</th>\n",
       "      <th>BalabanJ</th>\n",
       "      <th>CIC3</th>\n",
       "      <th>GGI4</th>\n",
       "      <th>JGI1</th>\n",
       "      <th>Mor10v</th>\n",
       "      <th>Mor16se</th>\n",
       "      <th>GRAVH</th>\n",
       "      <th>HBondA</th>\n",
       "      <th>HBondD</th>\n",
       "      <th>HeteroA</th>\n",
       "      <th>AromaticR</th>\n",
       "      <th>CPS</th>\n",
       "      <th>GATS2m</th>\n",
       "      <th>FPSA3</th>\n",
       "      <th>WNSA3</th>\n",
       "      <th>PNSA3</th>\n",
       "      <th>ATS3p</th>\n",
       "      <th>RPCG</th>\n",
       "      <th>RNCG</th>\n",
       "    </tr>\n",
       "  </thead>\n",
       "  <tbody>\n",
       "  </tbody>\n",
       "</table>\n",
       "</div>"
      ],
      "text/plain": [
       "Empty DataFrame\n",
       "Columns: [ID, Fuel, Class, Sub-Class, Group, BP2, Uncertainty, Source, SMILES, BP, Molecular Formula, N_Atoms, MW, IC0, PJ3, SIC0, GATS1v, Wiener, Z1, HOMO, LUMO, DM, EI, CP, H, BalabanJ, CIC3, GGI4, JGI1, Mor10v, Mor16se, GRAVH, HBondA, HBondD, HeteroA, AromaticR, CPS, GATS2m, FPSA3, WNSA3, PNSA3, ATS3p, RPCG, RNCG]\n",
       "Index: []"
      ]
     },
     "execution_count": 60,
     "metadata": {
      "tags": []
     },
     "output_type": "execute_result"
    }
   ],
   "source": [
    "df.loc[df.BP2==337.632]"
   ]
  },
  {
   "cell_type": "markdown",
   "id": "5f232abc",
   "metadata": {
    "id": "5f232abc"
   },
   "source": [
    "# XGBoost"
   ]
  },
  {
   "cell_type": "code",
   "execution_count": 13,
   "id": "7b25fd61",
   "metadata": {
    "colab": {
     "base_uri": "https://localhost:8080/"
    },
    "id": "7b25fd61",
    "outputId": "4fcb4adc-dd07-4649-8f28-2934a3ab84b4"
   },
   "outputs": [
    {
     "name": "stdout",
     "output_type": "stream",
     "text": [
      "Fitting 10 folds for each of 10 candidates, totalling 100 fits\n"
     ]
    },
    {
     "name": "stderr",
     "output_type": "stream",
     "text": [
      "[Parallel(n_jobs=-1)]: Using backend LokyBackend with 2 concurrent workers.\n",
      "[Parallel(n_jobs=-1)]: Done  62 tasks      | elapsed:    3.7s\n",
      "[Parallel(n_jobs=-1)]: Done 100 out of 100 | elapsed:    5.3s finished\n"
     ]
    },
    {
     "data": {
      "text/plain": [
       "RandomizedSearchCV(cv=KFold(n_splits=10, random_state=9, shuffle=True),\n",
       "                   error_score=nan,\n",
       "                   estimator=XGBRegressor(base_score=0.5, booster='gbtree',\n",
       "                                          colsample_bylevel=1,\n",
       "                                          colsample_bynode=1,\n",
       "                                          colsample_bytree=1, gamma=0,\n",
       "                                          importance_type='gain',\n",
       "                                          learning_rate=0.1, max_delta_step=0,\n",
       "                                          max_depth=3, min_child_weight=1,\n",
       "                                          missing=None, n_estimators=100,\n",
       "                                          n_jobs=1, nthread=None,\n",
       "                                          obj...\n",
       "                   param_distributions={'alpha': [4, 5, 6, 7, 8, 10, 20],\n",
       "                                        'colsample_bytree': [0.3, 0.4, 0.5, 0.6,\n",
       "                                                             0.7, 0.8],\n",
       "                                        'gamma': [0.0, 0.1, 0.2, 0.3, 0.4],\n",
       "                                        'learning_rate': [0.1, 0.2, 0.3],\n",
       "                                        'max_depth': [3, 5, 7, 9],\n",
       "                                        'min_child_weight': [1, 3, 5, 7],\n",
       "                                        'n_estimators': [100, 150, 200, 230,\n",
       "                                                         250, 260, 300, 320,\n",
       "                                                         350, 410]},\n",
       "                   pre_dispatch='2*n_jobs', random_state=None, refit=True,\n",
       "                   return_train_score=False, scoring='neg_mean_squared_error',\n",
       "                   verbose=2)"
      ]
     },
     "execution_count": 13,
     "metadata": {
      "tags": []
     },
     "output_type": "execute_result"
    }
   ],
   "source": [
    "import xgboost as xgb\n",
    "from sklearn.model_selection import GridSearchCV,RandomizedSearchCV,KFold\n",
    "\n",
    "param_grid3 = {\n",
    "    \"colsample_bytree\" : [.3,.4,.5,.6,.7,.8],\n",
    "    \"learning_rate\" : [.1, .2, .3],\n",
    "    \"n_estimators\": [100,150,200,230,250,260,300,320,350,410],\n",
    "    \"max_depth\": [3,5,7,9],\n",
    "    \"alpha\": [4,5,6,7,8,10,20],\n",
    "     \"min_child_weight\" : [ 1, 3, 5, 7 ],\n",
    "    \"gamma\": [ 0.0, 0.1, 0.2 , 0.3, 0.4 ]}\n",
    "\n",
    "grid3 = RandomizedSearchCV(xgb.XGBRegressor(objective ='reg:squarederror'),param_grid3,n_jobs=-1,\n",
    "                     cv=KFold(n_splits=10, shuffle=True, random_state=9), verbose=2,scoring='neg_mean_squared_error')\n",
    "grid3.fit(x_train,y_train)"
   ]
  },
  {
   "cell_type": "code",
   "execution_count": 24,
   "id": "e08da742",
   "metadata": {
    "colab": {
     "base_uri": "https://localhost:8080/"
    },
    "id": "e08da742",
    "outputId": "37a6f616-caf3-419a-ff38-cf4038f54cb1"
   },
   "outputs": [
    {
     "name": "stdout",
     "output_type": "stream",
     "text": [
      "{'n_estimators': 250, 'min_child_weight': 5, 'max_depth': 7, 'learning_rate': 0.1, 'gamma': 0.2, 'colsample_bytree': 0.7, 'alpha': 7}\n",
      "Mean test score: -297.633\n"
     ]
    }
   ],
   "source": [
    "print(grid3.best_params_)\n",
    "print('Mean test score: %.3f' % (grid3.best_score_) )"
   ]
  },
  {
   "cell_type": "code",
   "execution_count": 25,
   "id": "8401631f",
   "metadata": {
    "colab": {
     "base_uri": "https://localhost:8080/"
    },
    "id": "8401631f",
    "outputId": "eba04fa5-b00c-4045-a888-ab281019b395"
   },
   "outputs": [
    {
     "name": "stdout",
     "output_type": "stream",
     "text": [
      "R^2 train: 0.999, test: 0.973\n"
     ]
    }
   ],
   "source": [
    "y_train_pred4 = grid3.predict(x_train)\n",
    "y_test_pred4 = grid3.predict(x_test)\n",
    "print('R^2 train: %.3f, test: %.3f' %\n",
    "       (r2_score(y_train,y_train_pred4),\n",
    "        r2_score(y_test, y_test_pred4)))"
   ]
  },
  {
   "cell_type": "code",
   "execution_count": 29,
   "id": "9ca99273",
   "metadata": {
    "colab": {
     "base_uri": "https://localhost:8080/"
    },
    "id": "9ca99273",
    "outputId": "7bcb5e60-b5b0-4807-f3ef-ecad4721502c"
   },
   "outputs": [
    {
     "name": "stdout",
     "output_type": "stream",
     "text": [
      "RMSE train: 1.958, test: 15.081\n"
     ]
    }
   ],
   "source": [
    "from sklearn.metrics import mean_squared_error\n",
    "\n",
    "print('RMSE train: %.3f, test: %.3f' % (\n",
    "        mean_squared_error(y_train,y_train_pred4,squared=False),\n",
    "        mean_squared_error(y_test, y_test_pred4,squared=False)))"
   ]
  },
  {
   "cell_type": "code",
   "execution_count": 27,
   "id": "4565c43a",
   "metadata": {
    "colab": {
     "base_uri": "https://localhost:8080/",
     "height": 313
    },
    "id": "4565c43a",
    "outputId": "34995e3a-e6bd-4d86-86fe-ca06afe24eb1",
    "scrolled": true
   },
   "outputs": [
    {
     "data": {
      "image/png": "[encoded data removed]",
      "text/plain": [
       "<Figure size 432x288 with 1 Axes>"
      ]
     },
     "metadata": {
      "needs_background": "light",
      "tags": []
     },
     "output_type": "display_data"
    }
   ],
   "source": [
    "plt.scatter(y_train_pred4,\n",
    "            y_train_pred4 - y_train,\n",
    "            c= 'steelblue',\n",
    "            edgecolor = 'white',\n",
    "            marker = 'o',\n",
    "            s = 35,\n",
    "            alpha = 0.9,\n",
    "            label = 'Training Data')\n",
    "\n",
    "plt.scatter(y_test_pred4,\n",
    "            y_test_pred4 - y_test,\n",
    "            c = 'limegreen',\n",
    "            edgecolor = 'white',\n",
    "            marker = 's',\n",
    "            s=35,\n",
    "            alpha = 0.9,\n",
    "            label = 'Test Data')\n",
    "\n",
    "plt.xlabel('Predicted values')\n",
    "plt.ylabel('Residuals')\n",
    "plt.legend(loc='upper left')\n",
    "plt.hlines(y=0,xmin=-200,xmax=700,lw=2,color='black')\n",
    "plt.xlim([-200,700])\n",
    "plt.tight_layout()\n",
    "plt.grid()\n",
    "plt.title('XGBoost')\n",
    "plt.show()"
   ]
  },
  {
   "cell_type": "code",
   "execution_count": 30,
   "id": "Uuu43o2jhDgb",
   "metadata": {
    "colab": {
     "base_uri": "https://localhost:8080/",
     "height": 419
    },
    "id": "Uuu43o2jhDgb",
    "outputId": "23e52e9f-6e92-41ee-d061-3f8cded90f1a"
   },
   "outputs": [
    {
     "data": {
      "text/html": [
       "<div>\n",
       "<style scoped>\n",
       "    .dataframe tbody tr th:only-of-type {\n",
       "        vertical-align: middle;\n",
       "    }\n",
       "\n",
       "    .dataframe tbody tr th {\n",
       "        vertical-align: top;\n",
       "    }\n",
       "\n",
       "    .dataframe thead th {\n",
       "        text-align: right;\n",
       "    }\n",
       "</style>\n",
       "<table border=\"1\" class=\"dataframe\">\n",
       "  <thead>\n",
       "    <tr style=\"text-align: right;\">\n",
       "      <th></th>\n",
       "      <th>Residuals</th>\n",
       "      <th>Actual BP</th>\n",
       "    </tr>\n",
       "  </thead>\n",
       "  <tbody>\n",
       "    <tr>\n",
       "      <th>0</th>\n",
       "      <td>-4.021765</td>\n",
       "      <td>353.15000</td>\n",
       "    </tr>\n",
       "    <tr>\n",
       "      <th>1</th>\n",
       "      <td>2.399251</td>\n",
       "      <td>371.53889</td>\n",
       "    </tr>\n",
       "    <tr>\n",
       "      <th>2</th>\n",
       "      <td>2.662108</td>\n",
       "      <td>325.47400</td>\n",
       "    </tr>\n",
       "    <tr>\n",
       "      <th>3</th>\n",
       "      <td>19.023293</td>\n",
       "      <td>560.02700</td>\n",
       "    </tr>\n",
       "    <tr>\n",
       "      <th>4</th>\n",
       "      <td>-8.754878</td>\n",
       "      <td>344.93600</td>\n",
       "    </tr>\n",
       "    <tr>\n",
       "      <th>...</th>\n",
       "      <td>...</td>\n",
       "      <td>...</td>\n",
       "    </tr>\n",
       "    <tr>\n",
       "      <th>60</th>\n",
       "      <td>1.754511</td>\n",
       "      <td>341.21900</td>\n",
       "    </tr>\n",
       "    <tr>\n",
       "      <th>61</th>\n",
       "      <td>-8.147251</td>\n",
       "      <td>537.46500</td>\n",
       "    </tr>\n",
       "    <tr>\n",
       "      <th>62</th>\n",
       "      <td>-19.137958</td>\n",
       "      <td>555.88100</td>\n",
       "    </tr>\n",
       "    <tr>\n",
       "      <th>63</th>\n",
       "      <td>8.867775</td>\n",
       "      <td>304.76400</td>\n",
       "    </tr>\n",
       "    <tr>\n",
       "      <th>64</th>\n",
       "      <td>3.129360</td>\n",
       "      <td>393.21500</td>\n",
       "    </tr>\n",
       "  </tbody>\n",
       "</table>\n",
       "<p>65 rows × 2 columns</p>\n",
       "</div>"
      ],
      "text/plain": [
       "    Residuals  Actual BP\n",
       "0   -4.021765  353.15000\n",
       "1    2.399251  371.53889\n",
       "2    2.662108  325.47400\n",
       "3   19.023293  560.02700\n",
       "4   -8.754878  344.93600\n",
       "..        ...        ...\n",
       "60   1.754511  341.21900\n",
       "61  -8.147251  537.46500\n",
       "62 -19.137958  555.88100\n",
       "63   8.867775  304.76400\n",
       "64   3.129360  393.21500\n",
       "\n",
       "[65 rows x 2 columns]"
      ]
     },
     "execution_count": 30,
     "metadata": {
      "tags": []
     },
     "output_type": "execute_result"
    }
   ],
   "source": [
    "res_test =y_test_pred4-y_test\n",
    "res_test = res_test.tolist()\n",
    "list_of_tuples = list(zip(res_test,y_test))\n",
    "outliers = pd.DataFrame(list_of_tuples,columns=['Residuals','Actual BP'])\n",
    "outliers"
   ]
  },
  {
   "cell_type": "code",
   "execution_count": 41,
   "id": "dOUphP0ohlIh",
   "metadata": {
    "colab": {
     "base_uri": "https://localhost:8080/",
     "height": 80
    },
    "id": "dOUphP0ohlIh",
    "outputId": "30498742-48ed-48e6-d22d-3d7eda0ffef2"
   },
   "outputs": [
    {
     "data": {
      "text/html": [
       "<div>\n",
       "<style scoped>\n",
       "    .dataframe tbody tr th:only-of-type {\n",
       "        vertical-align: middle;\n",
       "    }\n",
       "\n",
       "    .dataframe tbody tr th {\n",
       "        vertical-align: top;\n",
       "    }\n",
       "\n",
       "    .dataframe thead th {\n",
       "        text-align: right;\n",
       "    }\n",
       "</style>\n",
       "<table border=\"1\" class=\"dataframe\">\n",
       "  <thead>\n",
       "    <tr style=\"text-align: right;\">\n",
       "      <th></th>\n",
       "      <th>Residuals</th>\n",
       "      <th>Actual BP</th>\n",
       "    </tr>\n",
       "  </thead>\n",
       "  <tbody>\n",
       "    <tr>\n",
       "      <th>10</th>\n",
       "      <td>45.347885</td>\n",
       "      <td>248.015</td>\n",
       "    </tr>\n",
       "  </tbody>\n",
       "</table>\n",
       "</div>"
      ],
      "text/plain": [
       "    Residuals  Actual BP\n",
       "10  45.347885    248.015"
      ]
     },
     "execution_count": 41,
     "metadata": {
      "tags": []
     },
     "output_type": "execute_result"
    }
   ],
   "source": [
    "outliers.loc[outliers.Residuals>40]"
   ]
  },
  {
   "cell_type": "code",
   "execution_count": 42,
   "id": "bwDiLJHOiIay",
   "metadata": {
    "colab": {
     "base_uri": "https://localhost:8080/",
     "height": 134
    },
    "id": "bwDiLJHOiIay",
    "outputId": "6e340484-4edd-4568-e58e-f948e5e7528a"
   },
   "outputs": [
    {
     "data": {
      "text/html": [
       "<div>\n",
       "<style scoped>\n",
       "    .dataframe tbody tr th:only-of-type {\n",
       "        vertical-align: middle;\n",
       "    }\n",
       "\n",
       "    .dataframe tbody tr th {\n",
       "        vertical-align: top;\n",
       "    }\n",
       "\n",
       "    .dataframe thead th {\n",
       "        text-align: right;\n",
       "    }\n",
       "</style>\n",
       "<table border=\"1\" class=\"dataframe\">\n",
       "  <thead>\n",
       "    <tr style=\"text-align: right;\">\n",
       "      <th></th>\n",
       "      <th>ID</th>\n",
       "      <th>Fuel</th>\n",
       "      <th>Class</th>\n",
       "      <th>Sub-Class</th>\n",
       "      <th>Group</th>\n",
       "      <th>BP2</th>\n",
       "      <th>Uncertainty</th>\n",
       "      <th>Source</th>\n",
       "      <th>SMILES</th>\n",
       "      <th>BP</th>\n",
       "      <th>Molecular Formula</th>\n",
       "      <th>N_Atoms</th>\n",
       "      <th>MW</th>\n",
       "      <th>IC0</th>\n",
       "      <th>PJ3</th>\n",
       "      <th>SIC0</th>\n",
       "      <th>GATS1v</th>\n",
       "      <th>Wiener</th>\n",
       "      <th>Z1</th>\n",
       "      <th>HOMO</th>\n",
       "      <th>LUMO</th>\n",
       "      <th>DM</th>\n",
       "      <th>EI</th>\n",
       "      <th>CP</th>\n",
       "      <th>H</th>\n",
       "      <th>BalabanJ</th>\n",
       "      <th>CIC3</th>\n",
       "      <th>GGI4</th>\n",
       "      <th>JGI1</th>\n",
       "      <th>Mor10v</th>\n",
       "      <th>Mor16se</th>\n",
       "      <th>GRAVH</th>\n",
       "      <th>HBondA</th>\n",
       "      <th>HBondD</th>\n",
       "      <th>HeteroA</th>\n",
       "      <th>AromaticR</th>\n",
       "      <th>CPS</th>\n",
       "      <th>GATS2m</th>\n",
       "      <th>FPSA3</th>\n",
       "      <th>WNSA3</th>\n",
       "      <th>PNSA3</th>\n",
       "      <th>ATS3p</th>\n",
       "      <th>RPCG</th>\n",
       "      <th>RNCG</th>\n",
       "    </tr>\n",
       "  </thead>\n",
       "  <tbody>\n",
       "    <tr>\n",
       "      <th>92</th>\n",
       "      <td>93</td>\n",
       "      <td>Methylacetylene</td>\n",
       "      <td>Hydrocarbons</td>\n",
       "      <td>Aliphatic hydrocarbons</td>\n",
       "      <td>Alkynes</td>\n",
       "      <td>248.015</td>\n",
       "      <td>15.2025</td>\n",
       "      <td>NIST</td>\n",
       "      <td>CC#C</td>\n",
       "      <td>249.95</td>\n",
       "      <td>C3H4</td>\n",
       "      <td>7</td>\n",
       "      <td>40.065</td>\n",
       "      <td>0.985228</td>\n",
       "      <td>0.465948</td>\n",
       "      <td>0.350945</td>\n",
       "      <td>1.166667</td>\n",
       "      <td>4</td>\n",
       "      <td>6</td>\n",
       "      <td>-0.259467</td>\n",
       "      <td>0.061985</td>\n",
       "      <td>0.686964</td>\n",
       "      <td>0.321451</td>\n",
       "      <td>-0.098741</td>\n",
       "      <td>0.015165</td>\n",
       "      <td>1.632993</td>\n",
       "      <td>0.67927</td>\n",
       "      <td>0.0</td>\n",
       "      <td>0.25</td>\n",
       "      <td>-0.114906</td>\n",
       "      <td>-0.038053</td>\n",
       "      <td>244.751879</td>\n",
       "      <td>0</td>\n",
       "      <td>0</td>\n",
       "      <td>0</td>\n",
       "      <td>0</td>\n",
       "      <td>-6.27205</td>\n",
       "      <td>0.875</td>\n",
       "      <td>0.02836</td>\n",
       "      <td>-1.692481</td>\n",
       "      <td>-9.024915</td>\n",
       "      <td>4.454177</td>\n",
       "      <td>0.530176</td>\n",
       "      <td>0.51558</td>\n",
       "    </tr>\n",
       "  </tbody>\n",
       "</table>\n",
       "</div>"
      ],
      "text/plain": [
       "    ID             Fuel         Class  ...     ATS3p      RPCG     RNCG\n",
       "92  93  Methylacetylene  Hydrocarbons  ...  4.454177  0.530176  0.51558\n",
       "\n",
       "[1 rows x 44 columns]"
      ]
     },
     "execution_count": 42,
     "metadata": {
      "tags": []
     },
     "output_type": "execute_result"
    }
   ],
   "source": [
    "df.loc[df.BP2==248.015]"
   ]
  },
  {
   "cell_type": "code",
   "execution_count": 43,
   "id": "PjGwdnCCklOm",
   "metadata": {
    "colab": {
     "base_uri": "https://localhost:8080/",
     "height": 80
    },
    "id": "PjGwdnCCklOm",
    "outputId": "67c61b24-f7d5-48f7-83df-e17dd0e3305a"
   },
   "outputs": [
    {
     "data": {
      "text/html": [
       "<div>\n",
       "<style scoped>\n",
       "    .dataframe tbody tr th:only-of-type {\n",
       "        vertical-align: middle;\n",
       "    }\n",
       "\n",
       "    .dataframe tbody tr th {\n",
       "        vertical-align: top;\n",
       "    }\n",
       "\n",
       "    .dataframe thead th {\n",
       "        text-align: right;\n",
       "    }\n",
       "</style>\n",
       "<table border=\"1\" class=\"dataframe\">\n",
       "  <thead>\n",
       "    <tr style=\"text-align: right;\">\n",
       "      <th></th>\n",
       "      <th>Residuals</th>\n",
       "      <th>Actual BP</th>\n",
       "    </tr>\n",
       "  </thead>\n",
       "  <tbody>\n",
       "    <tr>\n",
       "      <th>11</th>\n",
       "      <td>-47.83662</td>\n",
       "      <td>337.632</td>\n",
       "    </tr>\n",
       "  </tbody>\n",
       "</table>\n",
       "</div>"
      ],
      "text/plain": [
       "    Residuals  Actual BP\n",
       "11  -47.83662    337.632"
      ]
     },
     "execution_count": 43,
     "metadata": {
      "tags": []
     },
     "output_type": "execute_result"
    }
   ],
   "source": [
    "outliers.loc[outliers.Residuals<-40]"
   ]
  },
  {
   "cell_type": "code",
   "execution_count": 40,
   "id": "TiX11MbJk1Ak",
   "metadata": {
    "colab": {
     "base_uri": "https://localhost:8080/",
     "height": 86
    },
    "id": "TiX11MbJk1Ak",
    "outputId": "c899df21-a570-479a-8dc5-79872435ac5d"
   },
   "outputs": [
    {
     "data": {
      "text/html": [
       "<div>\n",
       "<style scoped>\n",
       "    .dataframe tbody tr th:only-of-type {\n",
       "        vertical-align: middle;\n",
       "    }\n",
       "\n",
       "    .dataframe tbody tr th {\n",
       "        vertical-align: top;\n",
       "    }\n",
       "\n",
       "    .dataframe thead th {\n",
       "        text-align: right;\n",
       "    }\n",
       "</style>\n",
       "<table border=\"1\" class=\"dataframe\">\n",
       "  <thead>\n",
       "    <tr style=\"text-align: right;\">\n",
       "      <th></th>\n",
       "      <th>ID</th>\n",
       "      <th>Fuel</th>\n",
       "      <th>Class</th>\n",
       "      <th>Sub-Class</th>\n",
       "      <th>Group</th>\n",
       "      <th>BP2</th>\n",
       "      <th>Uncertainty</th>\n",
       "      <th>Source</th>\n",
       "      <th>SMILES</th>\n",
       "      <th>BP</th>\n",
       "      <th>Molecular Formula</th>\n",
       "      <th>N_Atoms</th>\n",
       "      <th>MW</th>\n",
       "      <th>IC0</th>\n",
       "      <th>PJ3</th>\n",
       "      <th>SIC0</th>\n",
       "      <th>GATS1v</th>\n",
       "      <th>Wiener</th>\n",
       "      <th>Z1</th>\n",
       "      <th>HOMO</th>\n",
       "      <th>LUMO</th>\n",
       "      <th>DM</th>\n",
       "      <th>EI</th>\n",
       "      <th>CP</th>\n",
       "      <th>H</th>\n",
       "      <th>BalabanJ</th>\n",
       "      <th>CIC3</th>\n",
       "      <th>GGI4</th>\n",
       "      <th>JGI1</th>\n",
       "      <th>Mor10v</th>\n",
       "      <th>Mor16se</th>\n",
       "      <th>GRAVH</th>\n",
       "      <th>HBondA</th>\n",
       "      <th>HBondD</th>\n",
       "      <th>HeteroA</th>\n",
       "      <th>AromaticR</th>\n",
       "      <th>CPS</th>\n",
       "      <th>GATS2m</th>\n",
       "      <th>FPSA3</th>\n",
       "      <th>WNSA3</th>\n",
       "      <th>PNSA3</th>\n",
       "      <th>ATS3p</th>\n",
       "      <th>RPCG</th>\n",
       "      <th>RNCG</th>\n",
       "    </tr>\n",
       "  </thead>\n",
       "  <tbody>\n",
       "  </tbody>\n",
       "</table>\n",
       "</div>"
      ],
      "text/plain": [
       "Empty DataFrame\n",
       "Columns: [ID, Fuel, Class, Sub-Class, Group, BP2, Uncertainty, Source, SMILES, BP, Molecular Formula, N_Atoms, MW, IC0, PJ3, SIC0, GATS1v, Wiener, Z1, HOMO, LUMO, DM, EI, CP, H, BalabanJ, CIC3, GGI4, JGI1, Mor10v, Mor16se, GRAVH, HBondA, HBondD, HeteroA, AromaticR, CPS, GATS2m, FPSA3, WNSA3, PNSA3, ATS3p, RPCG, RNCG]\n",
       "Index: []"
      ]
     },
     "execution_count": 40,
     "metadata": {
      "tags": []
     },
     "output_type": "execute_result"
    }
   ],
   "source": [
    "df.loc[df.BP2==337.632]"
   ]
  },
  {
   "cell_type": "code",
   "execution_count": 28,
   "id": "f89501b2",
   "metadata": {
    "colab": {
     "base_uri": "https://localhost:8080/",
     "height": 312
    },
    "id": "f89501b2",
    "outputId": "28985fa7-9ebe-4375-dc48-db9aa6b183c0"
   },
   "outputs": [
    {
     "data": {
      "text/plain": [
       "[<matplotlib.lines.Line2D at 0x7f8480542790>]"
      ]
     },
     "execution_count": 28,
     "metadata": {
      "tags": []
     },
     "output_type": "execute_result"
    },
    {
     "data": {
      "image/png": "[encoded data removed]",
      "text/plain": [
       "<Figure size 432x288 with 1 Axes>"
      ]
     },
     "metadata": {
      "needs_background": "light",
      "tags": []
     },
     "output_type": "display_data"
    }
   ],
   "source": [
    "plt.scatter(y_train,y_train_pred4,color='blue',label='Training Data')\n",
    "plt.scatter(y_test,y_test_pred4,color='red',label='Test Data')\n",
    "plt.xlabel('Actual Boiling Point (K)')\n",
    "plt.ylabel('Predicted Boiling Point (K)')\n",
    "plt.legend(loc='upper left')\n",
    "plt.grid()\n",
    "plt.title('XGBoost')\n",
    "plt.plot(range(700), range(700),'k')"
   ]
  }
 ],
 "metadata": {
  "accelerator": "GPU",
  "colab": {
   "collapsed_sections": [],
   "name": "FINAL VERSION - ML BP ALL COMPOUNDS.ipynb",
   "provenance": []
  },
  "kernelspec": {
   "display_name": "Python 3",
   "language": "python",
   "name": "python3"
  },
  "language_info": {
   "codemirror_mode": {
    "name": "ipython",
    "version": 3
   },
   "file_extension": ".py",
   "mimetype": "text/x-python",
   "name": "python",
   "nbconvert_exporter": "python",
   "pygments_lexer": "ipython3",
   "version": "3.7.10"
  }
 },
 "nbformat": 4,
 "nbformat_minor": 5
}
